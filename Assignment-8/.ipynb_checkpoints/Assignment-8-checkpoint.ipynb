{
 "cells": [
  {
   "cell_type": "markdown",
   "id": "9c390804",
   "metadata": {},
   "source": [
    "# Importing..."
   ]
  },
  {
   "cell_type": "code",
   "execution_count": 1,
   "id": "6860c1d4",
   "metadata": {},
   "outputs": [],
   "source": [
    "import pandas as pd"
   ]
  },
  {
   "cell_type": "code",
   "execution_count": 2,
   "id": "b8e3c050",
   "metadata": {},
   "outputs": [],
   "source": [
    "import seaborn as sns"
   ]
  },
  {
   "cell_type": "code",
   "execution_count": 3,
   "id": "43d65b2f",
   "metadata": {},
   "outputs": [],
   "source": [
    "pokemon = pd.read_csv('../Dataset.csv', sep=',')"
   ]
  },
  {
   "cell_type": "code",
   "execution_count": 4,
   "id": "4c3cb02b",
   "metadata": {},
   "outputs": [],
   "source": [
    "import scipy.stats as st"
   ]
  },
  {
   "cell_type": "markdown",
   "id": "22fa46bc",
   "metadata": {},
   "source": [
    "# Calculating the for 90%, 95%, 99% and 99.99% confidence intervals of 2 numerical columns..."
   ]
  },
  {
   "cell_type": "code",
   "execution_count": 5,
   "id": "f3c1fabe",
   "metadata": {},
   "outputs": [
    {
     "data": {
      "text/plain": [
       "(68.56386316602494, 71.24815233785101)"
      ]
     },
     "execution_count": 5,
     "metadata": {},
     "output_type": "execute_result"
    }
   ],
   "source": [
    "confidence = 0.90\n",
    "st.t.interval(confidence, len(pokemon)-1, loc=pokemon['HP'].mean(), scale=st.sem(pokemon['HP']))"
   ]
  },
  {
   "cell_type": "code",
   "execution_count": 6,
   "id": "2fa04764",
   "metadata": {},
   "outputs": [
    {
     "data": {
      "text/plain": [
       "(68.30630286369787, 71.50571264017809)"
      ]
     },
     "execution_count": 6,
     "metadata": {},
     "output_type": "execute_result"
    }
   ],
   "source": [
    "confidence = 0.95\n",
    "st.t.interval(confidence, len(pokemon)-1, loc=pokemon['HP'].mean(), scale=st.sem(pokemon['HP']))"
   ]
  },
  {
   "cell_type": "code",
   "execution_count": 7,
   "id": "3f2d98f6",
   "metadata": {},
   "outputs": [
    {
     "data": {
      "text/plain": [
       "(67.80221282841856, 72.0098026754574)"
      ]
     },
     "execution_count": 7,
     "metadata": {},
     "output_type": "execute_result"
    }
   ],
   "source": [
    "confidence = 0.99\n",
    "st.t.interval(confidence, len(pokemon)-1, loc=pokemon['HP'].mean(), scale=st.sem(pokemon['HP']))"
   ]
  },
  {
   "cell_type": "code",
   "execution_count": 8,
   "id": "4584b274",
   "metadata": {},
   "outputs": [
    {
     "data": {
      "text/plain": [
       "(66.7218156890455, 73.09019981483046)"
      ]
     },
     "execution_count": 8,
     "metadata": {},
     "output_type": "execute_result"
    }
   ],
   "source": [
    "confidence = 0.9999\n",
    "st.t.interval(confidence, len(pokemon)-1, loc=pokemon['HP'].mean(), scale=st.sem(pokemon['HP']))"
   ]
  },
  {
   "cell_type": "code",
   "execution_count": 9,
   "id": "2cddc7ac",
   "metadata": {},
   "outputs": [
    {
     "data": {
      "text/plain": [
       "(73.02562364416525, 76.19336860389677)"
      ]
     },
     "execution_count": 9,
     "metadata": {},
     "output_type": "execute_result"
    }
   ],
   "source": [
    "confidence = 0.90\n",
    "st.t.interval(confidence, len(pokemon)-1, loc=pokemon['Def'].mean(), scale=st.sem(pokemon['Def']))"
   ]
  },
  {
   "cell_type": "code",
   "execution_count": 10,
   "id": "11abf4bf",
   "metadata": {},
   "outputs": [
    {
     "data": {
      "text/plain": [
       "(72.72167526256503, 76.497316985497)"
      ]
     },
     "execution_count": 10,
     "metadata": {},
     "output_type": "execute_result"
    }
   ],
   "source": [
    "confidence = 0.95\n",
    "st.t.interval(confidence, len(pokemon)-1, loc=pokemon['Def'].mean(), scale=st.sem(pokemon['Def']))"
   ]
  },
  {
   "cell_type": "code",
   "execution_count": 11,
   "id": "8a8f5056",
   "metadata": {},
   "outputs": [
    {
     "data": {
      "text/plain": [
       "(72.12679573718935, 77.09219651087267)"
      ]
     },
     "execution_count": 11,
     "metadata": {},
     "output_type": "execute_result"
    }
   ],
   "source": [
    "confidence = 0.99\n",
    "st.t.interval(confidence, len(pokemon)-1, loc=pokemon['Def'].mean(), scale=st.sem(pokemon['Def']))"
   ]
  },
  {
   "cell_type": "code",
   "execution_count": 12,
   "id": "4b73c9f1",
   "metadata": {},
   "outputs": [
    {
     "data": {
      "text/plain": [
       "(70.85181291168804, 78.36717933637398)"
      ]
     },
     "execution_count": 12,
     "metadata": {},
     "output_type": "execute_result"
    }
   ],
   "source": [
    "confidence = 0.9999\n",
    "st.t.interval(confidence, len(pokemon)-1, loc=pokemon['Def'].mean(), scale=st.sem(pokemon['Def']))"
   ]
  },
  {
   "cell_type": "markdown",
   "id": "a065b648",
   "metadata": {},
   "source": [
    "The higher the confidence, the bigger the difference in the interval."
   ]
  },
  {
   "cell_type": "markdown",
   "id": "001c11c4",
   "metadata": {},
   "source": [
    "# Now the same, but only 95% confidence and on the first 10% of the dataset."
   ]
  },
  {
   "cell_type": "code",
   "execution_count": 13,
   "id": "dd0e2798",
   "metadata": {},
   "outputs": [],
   "source": [
    "first10 = pokemon.head(int(len(pokemon)*(10/100)))"
   ]
  },
  {
   "cell_type": "code",
   "execution_count": 14,
   "id": "d8ccf25a",
   "metadata": {},
   "outputs": [
    {
     "data": {
      "text/plain": [
       "(55.980293429980875, 64.03912404574729)"
      ]
     },
     "execution_count": 14,
     "metadata": {},
     "output_type": "execute_result"
    }
   ],
   "source": [
    "confidence = 0.95\n",
    "st.t.interval(confidence, len(first10)-1, loc=first10['HP'].mean(), scale=st.sem(first10['HP']))"
   ]
  },
  {
   "cell_type": "code",
   "execution_count": 15,
   "id": "82eac583",
   "metadata": {},
   "outputs": [
    {
     "data": {
      "text/plain": [
       "(57.96695825230756, 67.87770194186719)"
      ]
     },
     "execution_count": 15,
     "metadata": {},
     "output_type": "execute_result"
    }
   ],
   "source": [
    "confidence = 0.95\n",
    "st.t.interval(confidence, len(first10)-1, loc=first10['Def'].mean(), scale=st.sem(first10['Def']))"
   ]
  },
  {
   "cell_type": "markdown",
   "id": "0f24805d",
   "metadata": {},
   "source": [
    "When there is less data present, the difference in the interval is a lot bigger."
   ]
  }
 ],
 "metadata": {
  "kernelspec": {
   "display_name": "Python 3 (ipykernel)",
   "language": "python",
   "name": "python3"
  },
  "language_info": {
   "codemirror_mode": {
    "name": "ipython",
    "version": 3
   },
   "file_extension": ".py",
   "mimetype": "text/x-python",
   "name": "python",
   "nbconvert_exporter": "python",
   "pygments_lexer": "ipython3",
   "version": "3.9.13"
  }
 },
 "nbformat": 4,
 "nbformat_minor": 5
}
