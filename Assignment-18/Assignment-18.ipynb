{
 "cells": [
  {
   "cell_type": "markdown",
   "id": "d22feeb3",
   "metadata": {},
   "source": [
    "# Importing..."
   ]
  },
  {
   "cell_type": "code",
   "execution_count": 1,
   "id": "183ce3bf",
   "metadata": {},
   "outputs": [],
   "source": [
    "import pandas as pd"
   ]
  },
  {
   "cell_type": "code",
   "execution_count": 2,
   "id": "91d3c6c8",
   "metadata": {},
   "outputs": [],
   "source": [
    "import seaborn as sns"
   ]
  },
  {
   "cell_type": "code",
   "execution_count": 3,
   "id": "865e4372",
   "metadata": {},
   "outputs": [],
   "source": [
    "import numpy as np"
   ]
  },
  {
   "cell_type": "code",
   "execution_count": 4,
   "id": "4e1f1d31",
   "metadata": {},
   "outputs": [],
   "source": [
    "from sklearn.model_selection import train_test_split"
   ]
  },
  {
   "cell_type": "code",
   "execution_count": 5,
   "id": "a633ee87",
   "metadata": {},
   "outputs": [],
   "source": [
    "from sklearn.tree import DecisionTreeRegressor"
   ]
  },
  {
   "cell_type": "code",
   "execution_count": 6,
   "id": "6c041611",
   "metadata": {},
   "outputs": [],
   "source": [
    "def calculate_rmse(predictions, actuals):\n",
    "    if(len(predictions) != len(actuals)):\n",
    "        raise Exception(\"The amount of predictions did not equal the amount of actuals\")\n",
    "    \n",
    "    return (((predictions - actuals) ** 2).sum() / len(actuals)) ** (1/2)"
   ]
  },
  {
   "cell_type": "code",
   "execution_count": 7,
   "id": "618e5f7e",
   "metadata": {},
   "outputs": [],
   "source": [
    "pokemon = pd.read_csv('../Dataset.csv', sep=',').dropna()\n",
    "pokemon['Legendary'] = pokemon['Legendary'].astype(str)"
   ]
  },
  {
   "cell_type": "markdown",
   "id": "2b2917bb",
   "metadata": {},
   "source": [
    "# Training a decision tree to predict a pokemon's weight based on their characteristics..."
   ]
  },
  {
   "cell_type": "markdown",
   "id": "75cc067e",
   "metadata": {},
   "source": [
    "Splitting the dataset and making a decision tree regressor..."
   ]
  },
  {
   "cell_type": "code",
   "execution_count": 8,
   "id": "2eee2d2e",
   "metadata": {},
   "outputs": [
    {
     "name": "stdout",
     "output_type": "stream",
     "text": [
      "(383, 44) (165, 44)\n"
     ]
    }
   ],
   "source": [
    "pokemon_train, pokemon_test = train_test_split(pokemon, test_size=0.3, random_state=42, stratify=pokemon['Legendary'])\n",
    "print(pokemon_train.shape, pokemon_test.shape)"
   ]
  },
  {
   "cell_type": "code",
   "execution_count": 14,
   "id": "cf2e96dd",
   "metadata": {},
   "outputs": [
    {
     "data": {
      "text/plain": [
       "DecisionTreeRegressor(max_depth=1)"
      ]
     },
     "execution_count": 14,
     "metadata": {},
     "output_type": "execute_result"
    }
   ],
   "source": [
    "features= ['HP', 'Att', 'Def', 'Spa', 'Spd', 'Spe']\n",
    "dt_regression = DecisionTreeRegressor(max_depth = 3)\n",
    "dt_regression.fit(pokemon_train[features], pokemon_train['Weight'])"
   ]
  },
  {
   "cell_type": "code",
   "execution_count": 15,
   "id": "511ad511",
   "metadata": {},
   "outputs": [],
   "source": [
    "predictionsOnTrainset = dt_regression.predict(pokemon_train[features])\n",
    "predictionsOnTestset = dt_regression.predict(pokemon_test[features])"
   ]
  },
  {
   "cell_type": "code",
   "execution_count": 16,
   "id": "0a177b10",
   "metadata": {},
   "outputs": [
    {
     "name": "stdout",
     "output_type": "stream",
     "text": [
      "RMSE on training set 134.0870187335839\n",
      "Normalised RMSE on training set 0.1341138415018843\n",
      "RMSE on test set 132.44992965559499\n",
      "Normalised RMSE on test set 0.149188927298485\n"
     ]
    }
   ],
   "source": [
    "rmseTrain = calculate_rmse(predictionsOnTrainset, pokemon_train.Weight)\n",
    "rmseTest = calculate_rmse(predictionsOnTestset, pokemon_test.Weight)\n",
    "\n",
    "print(\"RMSE on training set \" + str(rmseTrain))\n",
    "print(\"Normalised RMSE on training set \" + str(rmseTrain / (pokemon_train.Weight.max() - pokemon_train.Weight.min())))\n",
    "print(\"RMSE on test set \" + str(rmseTest))\n",
    "print(\"Normalised RMSE on test set \" + str(rmseTest / (pokemon_test.Weight.max() - pokemon_test.Weight.min())))"
   ]
  },
  {
   "cell_type": "markdown",
   "id": "802a856d",
   "metadata": {},
   "source": [
    "I expected the training set to be a lot more accurate, since there's so much more data in it. This is true, as it is much closer to 0 than the test set."
   ]
  },
  {
   "cell_type": "markdown",
   "id": "ad091ea7",
   "metadata": {},
   "source": [
    "## Making a plottree..."
   ]
  },
  {
   "cell_type": "code",
   "execution_count": 17,
   "id": "45223b42",
   "metadata": {},
   "outputs": [],
   "source": [
    "from sklearn import tree\n",
    "import graphviz\n",
    "\n",
    "def plot_tree_regression(model, features):\n",
    "    # Generate plot data\n",
    "    dot_data = tree.export_graphviz(model, out_file=None, \n",
    "                          feature_names=features,  \n",
    "                          filled=True, rounded=True,  \n",
    "                          special_characters=True)  \n",
    "\n",
    "    # Turn into graph using graphviz\n",
    "    graph = graphviz.Source(dot_data)  \n",
    "\n",
    "    # Write out a pdf\n",
    "    graph.render(\"decision_tree\")\n",
    "\n",
    "    # Display in the notebook\n",
    "    return graph "
   ]
  },
  {
   "cell_type": "code",
   "execution_count": 18,
   "id": "2fc36d0c",
   "metadata": {},
   "outputs": [
    {
     "data": {
      "image/svg+xml": [
       "<?xml version=\"1.0\" encoding=\"UTF-8\" standalone=\"no\"?>\n",
       "<!DOCTYPE svg PUBLIC \"-//W3C//DTD SVG 1.1//EN\"\n",
       " \"http://www.w3.org/Graphics/SVG/1.1/DTD/svg11.dtd\">\n",
       "<!-- Generated by graphviz version 2.50.0 (0)\n",
       " -->\n",
       "<!-- Title: Tree Pages: 1 -->\n",
       "<svg width=\"380pt\" height=\"165pt\"\n",
       " viewBox=\"0.00 0.00 380.00 165.00\" xmlns=\"http://www.w3.org/2000/svg\" xmlns:xlink=\"http://www.w3.org/1999/xlink\">\n",
       "<g id=\"graph0\" class=\"graph\" transform=\"scale(1 1) rotate(0) translate(4 161)\">\n",
       "<title>Tree</title>\n",
       "<polygon fill=\"white\" stroke=\"transparent\" points=\"-4,4 -4,-161 376,-161 376,4 -4,4\"/>\n",
       "<!-- 0 -->\n",
       "<g id=\"node1\" class=\"node\">\n",
       "<title>0</title>\n",
       "<path fill=\"#f6d3ba\" stroke=\"black\" d=\"M262,-157C262,-157 105,-157 105,-157 99,-157 93,-151 93,-145 93,-145 93,-101 93,-101 93,-95 99,-89 105,-89 105,-89 262,-89 262,-89 268,-89 274,-95 274,-101 274,-101 274,-145 274,-145 274,-151 268,-157 262,-157\"/>\n",
       "<text text-anchor=\"start\" x=\"153\" y=\"-141.8\" font-family=\"Helvetica,sans-Serif\" font-size=\"14.00\">HP ≤ 79.5</text>\n",
       "<text text-anchor=\"start\" x=\"101\" y=\"-126.8\" font-family=\"Helvetica,sans-Serif\" font-size=\"14.00\">squared_error = 21896.873</text>\n",
       "<text text-anchor=\"start\" x=\"138.5\" y=\"-111.8\" font-family=\"Helvetica,sans-Serif\" font-size=\"14.00\">samples = 383</text>\n",
       "<text text-anchor=\"start\" x=\"138.5\" y=\"-96.8\" font-family=\"Helvetica,sans-Serif\" font-size=\"14.00\">value = 86.142</text>\n",
       "</g>\n",
       "<!-- 1 -->\n",
       "<g id=\"node2\" class=\"node\">\n",
       "<title>1</title>\n",
       "<path fill=\"#ffffff\" stroke=\"black\" d=\"M161,-53C161,-53 12,-53 12,-53 6,-53 0,-47 0,-41 0,-41 0,-12 0,-12 0,-6 6,0 12,0 12,0 161,0 161,0 167,0 173,-6 173,-12 173,-12 173,-41 173,-41 173,-47 167,-53 161,-53\"/>\n",
       "<text text-anchor=\"start\" x=\"8\" y=\"-37.8\" font-family=\"Helvetica,sans-Serif\" font-size=\"14.00\">squared_error = 4902.181</text>\n",
       "<text text-anchor=\"start\" x=\"41.5\" y=\"-22.8\" font-family=\"Helvetica,sans-Serif\" font-size=\"14.00\">samples = 250</text>\n",
       "<text text-anchor=\"start\" x=\"41.5\" y=\"-7.8\" font-family=\"Helvetica,sans-Serif\" font-size=\"14.00\">value = 40.489</text>\n",
       "</g>\n",
       "<!-- 0&#45;&gt;1 -->\n",
       "<g id=\"edge1\" class=\"edge\">\n",
       "<title>0&#45;&gt;1</title>\n",
       "<path fill=\"none\" stroke=\"black\" d=\"M149.57,-88.95C140.09,-79.71 129.79,-69.67 120.31,-60.44\"/>\n",
       "<polygon fill=\"black\" stroke=\"black\" points=\"122.52,-57.71 112.92,-53.24 117.64,-62.72 122.52,-57.71\"/>\n",
       "<text text-anchor=\"middle\" x=\"113.24\" y=\"-74.53\" font-family=\"Helvetica,sans-Serif\" font-size=\"14.00\">True</text>\n",
       "</g>\n",
       "<!-- 2 -->\n",
       "<g id=\"node3\" class=\"node\">\n",
       "<title>2</title>\n",
       "<path fill=\"#e58139\" stroke=\"black\" d=\"M360,-53C360,-53 203,-53 203,-53 197,-53 191,-47 191,-41 191,-41 191,-12 191,-12 191,-6 197,0 203,0 203,0 360,0 360,0 366,0 372,-6 372,-12 372,-12 372,-41 372,-41 372,-47 366,-53 360,-53\"/>\n",
       "<text text-anchor=\"start\" x=\"199\" y=\"-37.8\" font-family=\"Helvetica,sans-Serif\" font-size=\"14.00\">squared_error = 42560.433</text>\n",
       "<text text-anchor=\"start\" x=\"236.5\" y=\"-22.8\" font-family=\"Helvetica,sans-Serif\" font-size=\"14.00\">samples = 133</text>\n",
       "<text text-anchor=\"start\" x=\"233\" y=\"-7.8\" font-family=\"Helvetica,sans-Serif\" font-size=\"14.00\">value = 171.954</text>\n",
       "</g>\n",
       "<!-- 0&#45;&gt;2 -->\n",
       "<g id=\"edge2\" class=\"edge\">\n",
       "<title>0&#45;&gt;2</title>\n",
       "<path fill=\"none\" stroke=\"black\" d=\"M217.78,-88.95C227.36,-79.71 237.77,-69.67 247.34,-60.44\"/>\n",
       "<polygon fill=\"black\" stroke=\"black\" points=\"250.04,-62.7 254.81,-53.24 245.18,-57.66 250.04,-62.7\"/>\n",
       "<text text-anchor=\"middle\" x=\"254.36\" y=\"-74.53\" font-family=\"Helvetica,sans-Serif\" font-size=\"14.00\">False</text>\n",
       "</g>\n",
       "</g>\n",
       "</svg>\n"
      ],
      "text/plain": [
       "<graphviz.sources.Source at 0x16749b645e0>"
      ]
     },
     "execution_count": 18,
     "metadata": {},
     "output_type": "execute_result"
    }
   ],
   "source": [
    "plot_tree_regression(dt_regression, features)"
   ]
  },
  {
   "cell_type": "code",
   "execution_count": null,
   "id": "de3e28ca",
   "metadata": {},
   "outputs": [],
   "source": []
  }
 ],
 "metadata": {
  "kernelspec": {
   "display_name": "Python 3 (ipykernel)",
   "language": "python",
   "name": "python3"
  },
  "language_info": {
   "codemirror_mode": {
    "name": "ipython",
    "version": 3
   },
   "file_extension": ".py",
   "mimetype": "text/x-python",
   "name": "python",
   "nbconvert_exporter": "python",
   "pygments_lexer": "ipython3",
   "version": "3.9.13"
  }
 },
 "nbformat": 4,
 "nbformat_minor": 5
}
