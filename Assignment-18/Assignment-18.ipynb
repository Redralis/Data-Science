{
 "cells": [
  {
   "cell_type": "markdown",
   "id": "d22feeb3",
   "metadata": {},
   "source": [
    "# Importing..."
   ]
  },
  {
   "cell_type": "code",
   "execution_count": 19,
   "id": "183ce3bf",
   "metadata": {},
   "outputs": [],
   "source": [
    "import pandas as pd"
   ]
  },
  {
   "cell_type": "code",
   "execution_count": 20,
   "id": "91d3c6c8",
   "metadata": {},
   "outputs": [],
   "source": [
    "import seaborn as sns"
   ]
  },
  {
   "cell_type": "code",
   "execution_count": 21,
   "id": "865e4372",
   "metadata": {},
   "outputs": [],
   "source": [
    "import numpy as np"
   ]
  },
  {
   "cell_type": "code",
   "execution_count": 22,
   "id": "4e1f1d31",
   "metadata": {},
   "outputs": [],
   "source": [
    "from sklearn.model_selection import train_test_split"
   ]
  },
  {
   "cell_type": "code",
   "execution_count": 23,
   "id": "a633ee87",
   "metadata": {},
   "outputs": [],
   "source": [
    "from sklearn.tree import DecisionTreeRegressor"
   ]
  },
  {
   "cell_type": "code",
   "execution_count": 24,
   "id": "6c041611",
   "metadata": {},
   "outputs": [],
   "source": [
    "def calculate_rmse(predictions, actuals):\n",
    "    if(len(predictions) != len(actuals)):\n",
    "        raise Exception(\"The amount of predictions did not equal the amount of actuals\")\n",
    "    \n",
    "    return (((predictions - actuals) ** 2).sum() / len(actuals)) ** (1/2)"
   ]
  },
  {
   "cell_type": "code",
   "execution_count": 25,
   "id": "618e5f7e",
   "metadata": {},
   "outputs": [],
   "source": [
    "pokemon = pd.read_csv('../Dataset.csv', sep=',').dropna()\n",
    "pokemon['Legendary'] = pokemon['Legendary'].astype(str)"
   ]
  },
  {
   "cell_type": "markdown",
   "id": "2b2917bb",
   "metadata": {},
   "source": [
    "# Training a decision tree to predict a pokemon's weight based on their characteristics..."
   ]
  },
  {
   "cell_type": "markdown",
   "id": "75cc067e",
   "metadata": {},
   "source": [
    "Splitting the dataset and making a decision tree regressor..."
   ]
  },
  {
   "cell_type": "code",
   "execution_count": 26,
   "id": "2eee2d2e",
   "metadata": {},
   "outputs": [
    {
     "name": "stdout",
     "output_type": "stream",
     "text": [
      "(383, 44) (165, 44)\n"
     ]
    }
   ],
   "source": [
    "pokemon_train, pokemon_test = train_test_split(pokemon, test_size=0.3, random_state=42, stratify=pokemon['Legendary'])\n",
    "print(pokemon_train.shape, pokemon_test.shape)"
   ]
  },
  {
   "cell_type": "code",
   "execution_count": 27,
   "id": "cf2e96dd",
   "metadata": {},
   "outputs": [
    {
     "data": {
      "text/plain": [
       "DecisionTreeRegressor(max_depth=3)"
      ]
     },
     "execution_count": 27,
     "metadata": {},
     "output_type": "execute_result"
    }
   ],
   "source": [
    "features= ['HP', 'Att', 'Def', 'Spa', 'Spd', 'Spe']\n",
    "dt_regression = DecisionTreeRegressor(max_depth = 3)\n",
    "dt_regression.fit(pokemon_train[features], pokemon_train['Weight'])"
   ]
  },
  {
   "cell_type": "code",
   "execution_count": 28,
   "id": "511ad511",
   "metadata": {},
   "outputs": [],
   "source": [
    "predictionsOnTrainset = dt_regression.predict(pokemon_train[features])\n",
    "predictionsOnTestset = dt_regression.predict(pokemon_test[features])"
   ]
  },
  {
   "cell_type": "code",
   "execution_count": 29,
   "id": "0a177b10",
   "metadata": {},
   "outputs": [
    {
     "name": "stdout",
     "output_type": "stream",
     "text": [
      "RMSE on training set 98.13946465675875\n",
      "Normalised RMSE on training set 0.09815909647605396\n",
      "RMSE on test set 126.47903050523541\n",
      "Normalised RMSE on test set 0.14246342701648504\n"
     ]
    }
   ],
   "source": [
    "rmseTrain = calculate_rmse(predictionsOnTrainset, pokemon_train.Weight)\n",
    "rmseTest = calculate_rmse(predictionsOnTestset, pokemon_test.Weight)\n",
    "\n",
    "print(\"RMSE on training set \" + str(rmseTrain))\n",
    "print(\"Normalised RMSE on training set \" + str(rmseTrain / (pokemon_train.Weight.max() - pokemon_train.Weight.min())))\n",
    "print(\"RMSE on test set \" + str(rmseTest))\n",
    "print(\"Normalised RMSE on test set \" + str(rmseTest / (pokemon_test.Weight.max() - pokemon_test.Weight.min())))"
   ]
  },
  {
   "cell_type": "markdown",
   "id": "802a856d",
   "metadata": {},
   "source": [
    "I expected the training set to be a lot more accurate, since there's so much more data in it. This is true, as it is much closer to 0 than the test set."
   ]
  },
  {
   "cell_type": "markdown",
   "id": "ad091ea7",
   "metadata": {},
   "source": [
    "## Making a plottree..."
   ]
  },
  {
   "cell_type": "code",
   "execution_count": 30,
   "id": "45223b42",
   "metadata": {},
   "outputs": [],
   "source": [
    "from sklearn import tree\n",
    "import graphviz\n",
    "\n",
    "def plot_tree_regression(model, features):\n",
    "    # Generate plot data\n",
    "    dot_data = tree.export_graphviz(model, out_file=None, \n",
    "                          feature_names=features,  \n",
    "                          filled=True, rounded=True,  \n",
    "                          special_characters=True)  \n",
    "\n",
    "    # Turn into graph using graphviz\n",
    "    graph = graphviz.Source(dot_data)  \n",
    "\n",
    "    # Write out a pdf\n",
    "    graph.render(\"decision_tree\")\n",
    "\n",
    "    # Display in the notebook\n",
    "    return graph "
   ]
  },
  {
   "cell_type": "code",
   "execution_count": 31,
   "id": "2fc36d0c",
   "metadata": {},
   "outputs": [
    {
     "data": {
      "image/svg+xml": [
       "<?xml version=\"1.0\" encoding=\"UTF-8\" standalone=\"no\"?>\n",
       "<!DOCTYPE svg PUBLIC \"-//W3C//DTD SVG 1.1//EN\"\n",
       " \"http://www.w3.org/Graphics/SVG/1.1/DTD/svg11.dtd\">\n",
       "<!-- Generated by graphviz version 2.50.0 (0)\n",
       " -->\n",
       "<!-- Title: Tree Pages: 1 -->\n",
       "<svg width=\"1492pt\" height=\"373pt\"\n",
       " viewBox=\"0.00 0.00 1491.50 373.00\" xmlns=\"http://www.w3.org/2000/svg\" xmlns:xlink=\"http://www.w3.org/1999/xlink\">\n",
       "<g id=\"graph0\" class=\"graph\" transform=\"scale(1 1) rotate(0) translate(4 369)\">\n",
       "<title>Tree</title>\n",
       "<polygon fill=\"white\" stroke=\"transparent\" points=\"-4,4 -4,-369 1487.5,-369 1487.5,4 -4,4\"/>\n",
       "<!-- 0 -->\n",
       "<g id=\"node1\" class=\"node\">\n",
       "<title>0</title>\n",
       "<path fill=\"#fdf6f1\" stroke=\"black\" d=\"M786.5,-365C786.5,-365 629.5,-365 629.5,-365 623.5,-365 617.5,-359 617.5,-353 617.5,-353 617.5,-309 617.5,-309 617.5,-303 623.5,-297 629.5,-297 629.5,-297 786.5,-297 786.5,-297 792.5,-297 798.5,-303 798.5,-309 798.5,-309 798.5,-353 798.5,-353 798.5,-359 792.5,-365 786.5,-365\"/>\n",
       "<text text-anchor=\"start\" x=\"677.5\" y=\"-349.8\" font-family=\"Helvetica,sans-Serif\" font-size=\"14.00\">HP ≤ 79.5</text>\n",
       "<text text-anchor=\"start\" x=\"625.5\" y=\"-334.8\" font-family=\"Helvetica,sans-Serif\" font-size=\"14.00\">squared_error = 21896.873</text>\n",
       "<text text-anchor=\"start\" x=\"663\" y=\"-319.8\" font-family=\"Helvetica,sans-Serif\" font-size=\"14.00\">samples = 383</text>\n",
       "<text text-anchor=\"start\" x=\"663\" y=\"-304.8\" font-family=\"Helvetica,sans-Serif\" font-size=\"14.00\">value = 86.142</text>\n",
       "</g>\n",
       "<!-- 1 -->\n",
       "<g id=\"node2\" class=\"node\">\n",
       "<title>1</title>\n",
       "<path fill=\"#fefcfb\" stroke=\"black\" d=\"M607.5,-261C607.5,-261 458.5,-261 458.5,-261 452.5,-261 446.5,-255 446.5,-249 446.5,-249 446.5,-205 446.5,-205 446.5,-199 452.5,-193 458.5,-193 458.5,-193 607.5,-193 607.5,-193 613.5,-193 619.5,-199 619.5,-205 619.5,-205 619.5,-249 619.5,-249 619.5,-255 613.5,-261 607.5,-261\"/>\n",
       "<text text-anchor=\"start\" x=\"498\" y=\"-245.8\" font-family=\"Helvetica,sans-Serif\" font-size=\"14.00\">Def ≤ 174.0</text>\n",
       "<text text-anchor=\"start\" x=\"454.5\" y=\"-230.8\" font-family=\"Helvetica,sans-Serif\" font-size=\"14.00\">squared_error = 4902.181</text>\n",
       "<text text-anchor=\"start\" x=\"488\" y=\"-215.8\" font-family=\"Helvetica,sans-Serif\" font-size=\"14.00\">samples = 250</text>\n",
       "<text text-anchor=\"start\" x=\"488\" y=\"-200.8\" font-family=\"Helvetica,sans-Serif\" font-size=\"14.00\">value = 40.489</text>\n",
       "</g>\n",
       "<!-- 0&#45;&gt;1 -->\n",
       "<g id=\"edge1\" class=\"edge\">\n",
       "<title>0&#45;&gt;1</title>\n",
       "<path fill=\"none\" stroke=\"black\" d=\"M651.18,-296.88C634.44,-287.12 615.98,-276.37 598.73,-266.31\"/>\n",
       "<polygon fill=\"black\" stroke=\"black\" points=\"600.23,-263.14 589.83,-261.12 596.71,-269.18 600.23,-263.14\"/>\n",
       "<text text-anchor=\"middle\" x=\"596.2\" y=\"-281.6\" font-family=\"Helvetica,sans-Serif\" font-size=\"14.00\">True</text>\n",
       "</g>\n",
       "<!-- 8 -->\n",
       "<g id=\"node9\" class=\"node\">\n",
       "<title>8</title>\n",
       "<path fill=\"#fbeade\" stroke=\"black\" d=\"M983.5,-261C983.5,-261 826.5,-261 826.5,-261 820.5,-261 814.5,-255 814.5,-249 814.5,-249 814.5,-205 814.5,-205 814.5,-199 820.5,-193 826.5,-193 826.5,-193 983.5,-193 983.5,-193 989.5,-193 995.5,-199 995.5,-205 995.5,-205 995.5,-249 995.5,-249 995.5,-255 989.5,-261 983.5,-261\"/>\n",
       "<text text-anchor=\"start\" x=\"870\" y=\"-245.8\" font-family=\"Helvetica,sans-Serif\" font-size=\"14.00\">Def ≤ 137.5</text>\n",
       "<text text-anchor=\"start\" x=\"822.5\" y=\"-230.8\" font-family=\"Helvetica,sans-Serif\" font-size=\"14.00\">squared_error = 42560.433</text>\n",
       "<text text-anchor=\"start\" x=\"860\" y=\"-215.8\" font-family=\"Helvetica,sans-Serif\" font-size=\"14.00\">samples = 133</text>\n",
       "<text text-anchor=\"start\" x=\"856.5\" y=\"-200.8\" font-family=\"Helvetica,sans-Serif\" font-size=\"14.00\">value = 171.954</text>\n",
       "</g>\n",
       "<!-- 0&#45;&gt;8 -->\n",
       "<g id=\"edge8\" class=\"edge\">\n",
       "<title>0&#45;&gt;8</title>\n",
       "<path fill=\"none\" stroke=\"black\" d=\"M771.96,-296.88C791.15,-286.95 812.35,-275.97 832.08,-265.76\"/>\n",
       "<polygon fill=\"black\" stroke=\"black\" points=\"833.75,-268.83 841.02,-261.12 830.53,-262.61 833.75,-268.83\"/>\n",
       "<text text-anchor=\"middle\" x=\"833.45\" y=\"-281.25\" font-family=\"Helvetica,sans-Serif\" font-size=\"14.00\">False</text>\n",
       "</g>\n",
       "<!-- 2 -->\n",
       "<g id=\"node3\" class=\"node\">\n",
       "<title>2</title>\n",
       "<path fill=\"#fffdfc\" stroke=\"black\" d=\"M337.5,-157C337.5,-157 188.5,-157 188.5,-157 182.5,-157 176.5,-151 176.5,-145 176.5,-145 176.5,-101 176.5,-101 176.5,-95 182.5,-89 188.5,-89 188.5,-89 337.5,-89 337.5,-89 343.5,-89 349.5,-95 349.5,-101 349.5,-101 349.5,-145 349.5,-145 349.5,-151 343.5,-157 337.5,-157\"/>\n",
       "<text text-anchor=\"start\" x=\"231.5\" y=\"-141.8\" font-family=\"Helvetica,sans-Serif\" font-size=\"14.00\">Def ≤ 85.5</text>\n",
       "<text text-anchor=\"start\" x=\"184.5\" y=\"-126.8\" font-family=\"Helvetica,sans-Serif\" font-size=\"14.00\">squared_error = 2549.403</text>\n",
       "<text text-anchor=\"start\" x=\"218\" y=\"-111.8\" font-family=\"Helvetica,sans-Serif\" font-size=\"14.00\">samples = 247</text>\n",
       "<text text-anchor=\"start\" x=\"218\" y=\"-96.8\" font-family=\"Helvetica,sans-Serif\" font-size=\"14.00\">value = 36.445</text>\n",
       "</g>\n",
       "<!-- 1&#45;&gt;2 -->\n",
       "<g id=\"edge2\" class=\"edge\">\n",
       "<title>1&#45;&gt;2</title>\n",
       "<path fill=\"none\" stroke=\"black\" d=\"M446.46,-193.31C418.6,-182.78 387.57,-171.06 359.08,-160.3\"/>\n",
       "<polygon fill=\"black\" stroke=\"black\" points=\"360.11,-156.94 349.52,-156.68 357.63,-163.49 360.11,-156.94\"/>\n",
       "</g>\n",
       "<!-- 5 -->\n",
       "<g id=\"node6\" class=\"node\">\n",
       "<title>5</title>\n",
       "<path fill=\"#f5cdb1\" stroke=\"black\" d=\"M611.5,-157C611.5,-157 454.5,-157 454.5,-157 448.5,-157 442.5,-151 442.5,-145 442.5,-145 442.5,-101 442.5,-101 442.5,-95 448.5,-89 454.5,-89 454.5,-89 611.5,-89 611.5,-89 617.5,-89 623.5,-95 623.5,-101 623.5,-101 623.5,-145 623.5,-145 623.5,-151 617.5,-157 611.5,-157\"/>\n",
       "<text text-anchor=\"start\" x=\"502.5\" y=\"-141.8\" font-family=\"Helvetica,sans-Serif\" font-size=\"14.00\">HP ≤ 72.5</text>\n",
       "<text text-anchor=\"start\" x=\"450.5\" y=\"-126.8\" font-family=\"Helvetica,sans-Serif\" font-size=\"14.00\">squared_error = 86371.167</text>\n",
       "<text text-anchor=\"start\" x=\"495.5\" y=\"-111.8\" font-family=\"Helvetica,sans-Serif\" font-size=\"14.00\">samples = 3</text>\n",
       "<text text-anchor=\"start\" x=\"492\" y=\"-96.8\" font-family=\"Helvetica,sans-Serif\" font-size=\"14.00\">value = 373.5</text>\n",
       "</g>\n",
       "<!-- 1&#45;&gt;5 -->\n",
       "<g id=\"edge5\" class=\"edge\">\n",
       "<title>1&#45;&gt;5</title>\n",
       "<path fill=\"none\" stroke=\"black\" d=\"M533,-192.88C533,-184.78 533,-175.98 533,-167.47\"/>\n",
       "<polygon fill=\"black\" stroke=\"black\" points=\"536.5,-167.3 533,-157.3 529.5,-167.3 536.5,-167.3\"/>\n",
       "</g>\n",
       "<!-- 3 -->\n",
       "<g id=\"node4\" class=\"node\">\n",
       "<title>3</title>\n",
       "<path fill=\"#ffffff\" stroke=\"black\" d=\"M146,-53C146,-53 12,-53 12,-53 6,-53 0,-47 0,-41 0,-41 0,-12 0,-12 0,-6 6,0 12,0 12,0 146,0 146,0 152,0 158,-6 158,-12 158,-12 158,-41 158,-41 158,-47 152,-53 146,-53\"/>\n",
       "<text text-anchor=\"start\" x=\"8\" y=\"-37.8\" font-family=\"Helvetica,sans-Serif\" font-size=\"14.00\">squared_error = 785.22</text>\n",
       "<text text-anchor=\"start\" x=\"34\" y=\"-22.8\" font-family=\"Helvetica,sans-Serif\" font-size=\"14.00\">samples = 176</text>\n",
       "<text text-anchor=\"start\" x=\"38\" y=\"-7.8\" font-family=\"Helvetica,sans-Serif\" font-size=\"14.00\">value = 22.65</text>\n",
       "</g>\n",
       "<!-- 2&#45;&gt;3 -->\n",
       "<g id=\"edge3\" class=\"edge\">\n",
       "<title>2&#45;&gt;3</title>\n",
       "<path fill=\"none\" stroke=\"black\" d=\"M198.65,-88.95C178.87,-78.79 157.22,-67.67 137.84,-57.72\"/>\n",
       "<polygon fill=\"black\" stroke=\"black\" points=\"139.31,-54.54 128.82,-53.09 136.12,-60.77 139.31,-54.54\"/>\n",
       "</g>\n",
       "<!-- 4 -->\n",
       "<g id=\"node5\" class=\"node\">\n",
       "<title>4</title>\n",
       "<path fill=\"#fef8f4\" stroke=\"black\" d=\"M337.5,-53C337.5,-53 188.5,-53 188.5,-53 182.5,-53 176.5,-47 176.5,-41 176.5,-41 176.5,-12 176.5,-12 176.5,-6 182.5,0 188.5,0 188.5,0 337.5,0 337.5,0 343.5,0 349.5,-6 349.5,-12 349.5,-12 349.5,-41 349.5,-41 349.5,-47 343.5,-53 337.5,-53\"/>\n",
       "<text text-anchor=\"start\" x=\"184.5\" y=\"-37.8\" font-family=\"Helvetica,sans-Serif\" font-size=\"14.00\">squared_error = 5281.593</text>\n",
       "<text text-anchor=\"start\" x=\"222\" y=\"-22.8\" font-family=\"Helvetica,sans-Serif\" font-size=\"14.00\">samples = 71</text>\n",
       "<text text-anchor=\"start\" x=\"218\" y=\"-7.8\" font-family=\"Helvetica,sans-Serif\" font-size=\"14.00\">value = 70.639</text>\n",
       "</g>\n",
       "<!-- 2&#45;&gt;4 -->\n",
       "<g id=\"edge4\" class=\"edge\">\n",
       "<title>2&#45;&gt;4</title>\n",
       "<path fill=\"none\" stroke=\"black\" d=\"M263,-88.95C263,-80.72 263,-71.85 263,-63.48\"/>\n",
       "<polygon fill=\"black\" stroke=\"black\" points=\"266.5,-63.24 263,-53.24 259.5,-63.24 266.5,-63.24\"/>\n",
       "</g>\n",
       "<!-- 6 -->\n",
       "<g id=\"node7\" class=\"node\">\n",
       "<title>6</title>\n",
       "<path fill=\"#fae7da\" stroke=\"black\" d=\"M536.5,-53C536.5,-53 379.5,-53 379.5,-53 373.5,-53 367.5,-47 367.5,-41 367.5,-41 367.5,-12 367.5,-12 367.5,-6 373.5,0 379.5,0 379.5,0 536.5,0 536.5,0 542.5,0 548.5,-6 548.5,-12 548.5,-12 548.5,-41 548.5,-41 548.5,-47 542.5,-53 536.5,-53\"/>\n",
       "<text text-anchor=\"start\" x=\"375.5\" y=\"-37.8\" font-family=\"Helvetica,sans-Serif\" font-size=\"14.00\">squared_error = 28815.062</text>\n",
       "<text text-anchor=\"start\" x=\"420.5\" y=\"-22.8\" font-family=\"Helvetica,sans-Serif\" font-size=\"14.00\">samples = 2</text>\n",
       "<text text-anchor=\"start\" x=\"413\" y=\"-7.8\" font-family=\"Helvetica,sans-Serif\" font-size=\"14.00\">value = 190.25</text>\n",
       "</g>\n",
       "<!-- 5&#45;&gt;6 -->\n",
       "<g id=\"edge6\" class=\"edge\">\n",
       "<title>5&#45;&gt;6</title>\n",
       "<path fill=\"none\" stroke=\"black\" d=\"M506.77,-88.95C499.65,-79.98 491.94,-70.27 484.8,-61.26\"/>\n",
       "<polygon fill=\"black\" stroke=\"black\" points=\"487.38,-58.89 478.43,-53.24 481.9,-63.25 487.38,-58.89\"/>\n",
       "</g>\n",
       "<!-- 7 -->\n",
       "<g id=\"node8\" class=\"node\">\n",
       "<title>7</title>\n",
       "<path fill=\"#ea995f\" stroke=\"black\" d=\"M691,-53C691,-53 579,-53 579,-53 573,-53 567,-47 567,-41 567,-41 567,-12 567,-12 567,-6 573,0 579,0 579,0 691,0 691,0 697,0 703,-6 703,-12 703,-12 703,-41 703,-41 703,-47 697,-53 691,-53\"/>\n",
       "<text text-anchor=\"start\" x=\"575\" y=\"-37.8\" font-family=\"Helvetica,sans-Serif\" font-size=\"14.00\">squared_error = 0.0</text>\n",
       "<text text-anchor=\"start\" x=\"597.5\" y=\"-22.8\" font-family=\"Helvetica,sans-Serif\" font-size=\"14.00\">samples = 1</text>\n",
       "<text text-anchor=\"start\" x=\"594\" y=\"-7.8\" font-family=\"Helvetica,sans-Serif\" font-size=\"14.00\">value = 740.0</text>\n",
       "</g>\n",
       "<!-- 5&#45;&gt;7 -->\n",
       "<g id=\"edge7\" class=\"edge\">\n",
       "<title>5&#45;&gt;7</title>\n",
       "<path fill=\"none\" stroke=\"black\" d=\"M568.67,-88.95C578.75,-79.62 589.7,-69.47 599.74,-60.16\"/>\n",
       "<polygon fill=\"black\" stroke=\"black\" points=\"602.26,-62.6 607.22,-53.24 597.51,-57.47 602.26,-62.6\"/>\n",
       "</g>\n",
       "<!-- 9 -->\n",
       "<g id=\"node10\" class=\"node\">\n",
       "<title>9</title>\n",
       "<path fill=\"#fbede3\" stroke=\"black\" d=\"M983.5,-157C983.5,-157 826.5,-157 826.5,-157 820.5,-157 814.5,-151 814.5,-145 814.5,-145 814.5,-101 814.5,-101 814.5,-95 820.5,-89 826.5,-89 826.5,-89 983.5,-89 983.5,-89 989.5,-89 995.5,-95 995.5,-101 995.5,-101 995.5,-145 995.5,-145 995.5,-151 989.5,-157 983.5,-157\"/>\n",
       "<text text-anchor=\"start\" x=\"873.5\" y=\"-141.8\" font-family=\"Helvetica,sans-Serif\" font-size=\"14.00\">Def ≤ 92.5</text>\n",
       "<text text-anchor=\"start\" x=\"822.5\" y=\"-126.8\" font-family=\"Helvetica,sans-Serif\" font-size=\"14.00\">squared_error = 27540.486</text>\n",
       "<text text-anchor=\"start\" x=\"860\" y=\"-111.8\" font-family=\"Helvetica,sans-Serif\" font-size=\"14.00\">samples = 128</text>\n",
       "<text text-anchor=\"start\" x=\"856.5\" y=\"-96.8\" font-family=\"Helvetica,sans-Serif\" font-size=\"14.00\">value = 149.048</text>\n",
       "</g>\n",
       "<!-- 8&#45;&gt;9 -->\n",
       "<g id=\"edge9\" class=\"edge\">\n",
       "<title>8&#45;&gt;9</title>\n",
       "<path fill=\"none\" stroke=\"black\" d=\"M905,-192.88C905,-184.78 905,-175.98 905,-167.47\"/>\n",
       "<polygon fill=\"black\" stroke=\"black\" points=\"908.5,-167.3 905,-157.3 901.5,-167.3 908.5,-167.3\"/>\n",
       "</g>\n",
       "<!-- 12 -->\n",
       "<g id=\"node13\" class=\"node\">\n",
       "<title>12</title>\n",
       "<path fill=\"#e9965b\" stroke=\"black\" d=\"M1280.5,-157C1280.5,-157 1123.5,-157 1123.5,-157 1117.5,-157 1111.5,-151 1111.5,-145 1111.5,-145 1111.5,-101 1111.5,-101 1111.5,-95 1117.5,-89 1123.5,-89 1123.5,-89 1280.5,-89 1280.5,-89 1286.5,-89 1292.5,-95 1292.5,-101 1292.5,-101 1292.5,-145 1292.5,-145 1292.5,-151 1286.5,-157 1280.5,-157\"/>\n",
       "<text text-anchor=\"start\" x=\"1169\" y=\"-141.8\" font-family=\"Helvetica,sans-Serif\" font-size=\"14.00\">Spe ≤ 80.5</text>\n",
       "<text text-anchor=\"start\" x=\"1119.5\" y=\"-126.8\" font-family=\"Helvetica,sans-Serif\" font-size=\"14.00\">squared_error = 69791.106</text>\n",
       "<text text-anchor=\"start\" x=\"1164.5\" y=\"-111.8\" font-family=\"Helvetica,sans-Serif\" font-size=\"14.00\">samples = 5</text>\n",
       "<text text-anchor=\"start\" x=\"1157\" y=\"-96.8\" font-family=\"Helvetica,sans-Serif\" font-size=\"14.00\">value = 758.34</text>\n",
       "</g>\n",
       "<!-- 8&#45;&gt;12 -->\n",
       "<g id=\"edge12\" class=\"edge\">\n",
       "<title>8&#45;&gt;12</title>\n",
       "<path fill=\"none\" stroke=\"black\" d=\"M995.72,-194.84C1029.25,-183.33 1067.43,-170.22 1101.75,-158.43\"/>\n",
       "<polygon fill=\"black\" stroke=\"black\" points=\"1103,-161.7 1111.32,-155.14 1100.73,-155.08 1103,-161.7\"/>\n",
       "</g>\n",
       "<!-- 10 -->\n",
       "<g id=\"node11\" class=\"node\">\n",
       "<title>10</title>\n",
       "<path fill=\"#fdf5ef\" stroke=\"black\" d=\"M882.5,-53C882.5,-53 733.5,-53 733.5,-53 727.5,-53 721.5,-47 721.5,-41 721.5,-41 721.5,-12 721.5,-12 721.5,-6 727.5,0 733.5,0 733.5,0 882.5,0 882.5,0 888.5,0 894.5,-6 894.5,-12 894.5,-12 894.5,-41 894.5,-41 894.5,-47 888.5,-53 882.5,-53\"/>\n",
       "<text text-anchor=\"start\" x=\"729.5\" y=\"-37.8\" font-family=\"Helvetica,sans-Serif\" font-size=\"14.00\">squared_error = 8825.941</text>\n",
       "<text text-anchor=\"start\" x=\"767\" y=\"-22.8\" font-family=\"Helvetica,sans-Serif\" font-size=\"14.00\">samples = 77</text>\n",
       "<text text-anchor=\"start\" x=\"763\" y=\"-7.8\" font-family=\"Helvetica,sans-Serif\" font-size=\"14.00\">value = 94.008</text>\n",
       "</g>\n",
       "<!-- 9&#45;&gt;10 -->\n",
       "<g id=\"edge10\" class=\"edge\">\n",
       "<title>9&#45;&gt;10</title>\n",
       "<path fill=\"none\" stroke=\"black\" d=\"M871.07,-88.95C861.59,-79.71 851.29,-69.67 841.81,-60.44\"/>\n",
       "<polygon fill=\"black\" stroke=\"black\" points=\"844.02,-57.71 834.42,-53.24 839.14,-62.72 844.02,-57.71\"/>\n",
       "</g>\n",
       "<!-- 11 -->\n",
       "<g id=\"node12\" class=\"node\">\n",
       "<title>11</title>\n",
       "<path fill=\"#f9e1d0\" stroke=\"black\" d=\"M1081.5,-53C1081.5,-53 924.5,-53 924.5,-53 918.5,-53 912.5,-47 912.5,-41 912.5,-41 912.5,-12 912.5,-12 912.5,-6 918.5,0 924.5,0 924.5,0 1081.5,0 1081.5,0 1087.5,0 1093.5,-6 1093.5,-12 1093.5,-12 1093.5,-41 1093.5,-41 1093.5,-47 1087.5,-53 1081.5,-53\"/>\n",
       "<text text-anchor=\"start\" x=\"920.5\" y=\"-37.8\" font-family=\"Helvetica,sans-Serif\" font-size=\"14.00\">squared_error = 44316.164</text>\n",
       "<text text-anchor=\"start\" x=\"962\" y=\"-22.8\" font-family=\"Helvetica,sans-Serif\" font-size=\"14.00\">samples = 51</text>\n",
       "<text text-anchor=\"start\" x=\"954.5\" y=\"-7.8\" font-family=\"Helvetica,sans-Serif\" font-size=\"14.00\">value = 232.149</text>\n",
       "</g>\n",
       "<!-- 9&#45;&gt;11 -->\n",
       "<g id=\"edge11\" class=\"edge\">\n",
       "<title>9&#45;&gt;11</title>\n",
       "<path fill=\"none\" stroke=\"black\" d=\"M939.28,-88.95C948.86,-79.71 959.27,-69.67 968.84,-60.44\"/>\n",
       "<polygon fill=\"black\" stroke=\"black\" points=\"971.54,-62.7 976.31,-53.24 966.68,-57.66 971.54,-62.7\"/>\n",
       "</g>\n",
       "<!-- 13 -->\n",
       "<g id=\"node14\" class=\"node\">\n",
       "<title>13</title>\n",
       "<path fill=\"#f0b78d\" stroke=\"black\" d=\"M1280.5,-53C1280.5,-53 1123.5,-53 1123.5,-53 1117.5,-53 1111.5,-47 1111.5,-41 1111.5,-41 1111.5,-12 1111.5,-12 1111.5,-6 1117.5,0 1123.5,0 1123.5,0 1280.5,0 1280.5,0 1286.5,0 1292.5,-6 1292.5,-12 1292.5,-12 1292.5,-41 1292.5,-41 1292.5,-47 1286.5,-53 1280.5,-53\"/>\n",
       "<text text-anchor=\"start\" x=\"1119.5\" y=\"-37.8\" font-family=\"Helvetica,sans-Serif\" font-size=\"14.00\">squared_error = 76756.703</text>\n",
       "<text text-anchor=\"start\" x=\"1164.5\" y=\"-22.8\" font-family=\"Helvetica,sans-Serif\" font-size=\"14.00\">samples = 2</text>\n",
       "<text text-anchor=\"start\" x=\"1157\" y=\"-7.8\" font-family=\"Helvetica,sans-Serif\" font-size=\"14.00\">value = 532.05</text>\n",
       "</g>\n",
       "<!-- 12&#45;&gt;13 -->\n",
       "<g id=\"edge13\" class=\"edge\">\n",
       "<title>12&#45;&gt;13</title>\n",
       "<path fill=\"none\" stroke=\"black\" d=\"M1202,-88.95C1202,-80.72 1202,-71.85 1202,-63.48\"/>\n",
       "<polygon fill=\"black\" stroke=\"black\" points=\"1205.5,-63.24 1202,-53.24 1198.5,-63.24 1205.5,-63.24\"/>\n",
       "</g>\n",
       "<!-- 14 -->\n",
       "<g id=\"node15\" class=\"node\">\n",
       "<title>14</title>\n",
       "<path fill=\"#e58139\" stroke=\"black\" d=\"M1471.5,-53C1471.5,-53 1322.5,-53 1322.5,-53 1316.5,-53 1310.5,-47 1310.5,-41 1310.5,-41 1310.5,-12 1310.5,-12 1310.5,-6 1316.5,0 1322.5,0 1322.5,0 1471.5,0 1471.5,0 1477.5,0 1483.5,-6 1483.5,-12 1483.5,-12 1483.5,-41 1483.5,-41 1483.5,-47 1477.5,-53 1471.5,-53\"/>\n",
       "<text text-anchor=\"start\" x=\"1318.5\" y=\"-37.8\" font-family=\"Helvetica,sans-Serif\" font-size=\"14.00\">squared_error = 8250.527</text>\n",
       "<text text-anchor=\"start\" x=\"1359.5\" y=\"-22.8\" font-family=\"Helvetica,sans-Serif\" font-size=\"14.00\">samples = 3</text>\n",
       "<text text-anchor=\"start\" x=\"1356\" y=\"-7.8\" font-family=\"Helvetica,sans-Serif\" font-size=\"14.00\">value = 909.2</text>\n",
       "</g>\n",
       "<!-- 12&#45;&gt;14 -->\n",
       "<g id=\"edge14\" class=\"edge\">\n",
       "<title>12&#45;&gt;14</title>\n",
       "<path fill=\"none\" stroke=\"black\" d=\"M1270.2,-88.95C1291.34,-78.7 1314.51,-67.47 1335.2,-57.45\"/>\n",
       "<polygon fill=\"black\" stroke=\"black\" points=\"1336.73,-60.6 1344.2,-53.09 1333.68,-54.3 1336.73,-60.6\"/>\n",
       "</g>\n",
       "</g>\n",
       "</svg>\n"
      ],
      "text/plain": [
       "<graphviz.sources.Source at 0x1674a2907c0>"
      ]
     },
     "execution_count": 31,
     "metadata": {},
     "output_type": "execute_result"
    }
   ],
   "source": [
    "plot_tree_regression(dt_regression, features)"
   ]
  }
 ],
 "metadata": {
  "kernelspec": {
   "display_name": "Python 3 (ipykernel)",
   "language": "python",
   "name": "python3"
  },
  "language_info": {
   "codemirror_mode": {
    "name": "ipython",
    "version": 3
   },
   "file_extension": ".py",
   "mimetype": "text/x-python",
   "name": "python",
   "nbconvert_exporter": "python",
   "pygments_lexer": "ipython3",
   "version": "3.9.13"
  }
 },
 "nbformat": 4,
 "nbformat_minor": 5
}
