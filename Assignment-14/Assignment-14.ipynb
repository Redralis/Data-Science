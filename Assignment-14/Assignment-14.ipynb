{
 "cells": [
  {
   "cell_type": "markdown",
   "id": "7d486f8d",
   "metadata": {},
   "source": [
    "# Importing..."
   ]
  },
  {
   "cell_type": "code",
   "execution_count": 1,
   "id": "c5c9f010",
   "metadata": {},
   "outputs": [],
   "source": [
    "import pandas as pd"
   ]
  },
  {
   "cell_type": "code",
   "execution_count": 2,
   "id": "9697b272",
   "metadata": {},
   "outputs": [],
   "source": [
    "import seaborn as sns"
   ]
  },
  {
   "cell_type": "code",
   "execution_count": 3,
   "id": "7fd5c1bb",
   "metadata": {},
   "outputs": [],
   "source": [
    "pokemon = pd.read_csv('../Dataset.csv', sep=',')"
   ]
  },
  {
   "cell_type": "markdown",
   "id": "26027694",
   "metadata": {},
   "source": [
    "# Bivariate analysis on a combination of categorical columns..."
   ]
  },
  {
   "cell_type": "markdown",
   "id": "ef4bc489",
   "metadata": {},
   "source": [
    "Firstly, 2 methods need to be defined for usage:"
   ]
  },
  {
   "cell_type": "code",
   "execution_count": 7,
   "id": "26b9b482",
   "metadata": {},
   "outputs": [],
   "source": [
    "def create_contingency_table(dataset, column1, column2):\n",
    "    return dataset.groupby([column1, column2]).size().unstack(column1, fill_value=0)"
   ]
  },
  {
   "cell_type": "code",
   "execution_count": 8,
   "id": "81da22f4",
   "metadata": {},
   "outputs": [],
   "source": [
    "from scipy.stats import chi2_contingency\n",
    "def check_cat_vs_cat_correlation(dataset, column1, column2):\n",
    "    contingency_table = create_contingency_table(dataset, column1, column2)\n",
    "    chi2 = chi2_contingency(contingency_table)\n",
    "    p_value = chi2[1]\n",
    "    odds_of_correlation = 1 - p_value\n",
    "    print(f\"The odds of a correlation between {column1} and {column2} is {odds_of_correlation * 100}% (Based on a p value of {p_value}).\")\n",
    "    print(\"This percentage needs to be at least 95% for a significant correlation.\")"
   ]
  },
  {
   "cell_type": "markdown",
   "id": "51395123",
   "metadata": {},
   "source": [
    "## Legendary vs Experience type"
   ]
  },
  {
   "cell_type": "markdown",
   "id": "edb3465d",
   "metadata": {},
   "source": [
    "I expect that legendaries there will be a correlation between types and experience type. I predict types which don't have an edge over many other types will generally have a faster experience type."
   ]
  },
  {
   "cell_type": "code",
   "execution_count": 13,
   "id": "661429dc",
   "metadata": {},
   "outputs": [
    {
     "data": {
      "text/html": [
       "<div>\n",
       "<style scoped>\n",
       "    .dataframe tbody tr th:only-of-type {\n",
       "        vertical-align: middle;\n",
       "    }\n",
       "\n",
       "    .dataframe tbody tr th {\n",
       "        vertical-align: top;\n",
       "    }\n",
       "\n",
       "    .dataframe thead th {\n",
       "        text-align: right;\n",
       "    }\n",
       "</style>\n",
       "<table border=\"1\" class=\"dataframe\">\n",
       "  <thead>\n",
       "    <tr style=\"text-align: right;\">\n",
       "      <th>Type 1</th>\n",
       "      <th>Bug</th>\n",
       "      <th>Dark</th>\n",
       "      <th>Dragon</th>\n",
       "      <th>Electric</th>\n",
       "      <th>Fairy</th>\n",
       "      <th>Fighting</th>\n",
       "      <th>Fire</th>\n",
       "      <th>Flying</th>\n",
       "      <th>Ghost</th>\n",
       "      <th>Grass</th>\n",
       "      <th>Ground</th>\n",
       "      <th>Ice</th>\n",
       "      <th>Normal</th>\n",
       "      <th>Poison</th>\n",
       "      <th>Psychic</th>\n",
       "      <th>Rock</th>\n",
       "      <th>Steel</th>\n",
       "      <th>Water</th>\n",
       "    </tr>\n",
       "    <tr>\n",
       "      <th>Experience type</th>\n",
       "      <th></th>\n",
       "      <th></th>\n",
       "      <th></th>\n",
       "      <th></th>\n",
       "      <th></th>\n",
       "      <th></th>\n",
       "      <th></th>\n",
       "      <th></th>\n",
       "      <th></th>\n",
       "      <th></th>\n",
       "      <th></th>\n",
       "      <th></th>\n",
       "      <th></th>\n",
       "      <th></th>\n",
       "      <th></th>\n",
       "      <th></th>\n",
       "      <th></th>\n",
       "      <th></th>\n",
       "    </tr>\n",
       "  </thead>\n",
       "  <tbody>\n",
       "    <tr>\n",
       "      <th>Erratic</th>\n",
       "      <td>4</td>\n",
       "      <td>0</td>\n",
       "      <td>2</td>\n",
       "      <td>0</td>\n",
       "      <td>0</td>\n",
       "      <td>0</td>\n",
       "      <td>0</td>\n",
       "      <td>0</td>\n",
       "      <td>0</td>\n",
       "      <td>3</td>\n",
       "      <td>0</td>\n",
       "      <td>0</td>\n",
       "      <td>2</td>\n",
       "      <td>0</td>\n",
       "      <td>0</td>\n",
       "      <td>8</td>\n",
       "      <td>0</td>\n",
       "      <td>7</td>\n",
       "    </tr>\n",
       "    <tr>\n",
       "      <th>Fast</th>\n",
       "      <td>4</td>\n",
       "      <td>2</td>\n",
       "      <td>0</td>\n",
       "      <td>2</td>\n",
       "      <td>9</td>\n",
       "      <td>0</td>\n",
       "      <td>0</td>\n",
       "      <td>0</td>\n",
       "      <td>10</td>\n",
       "      <td>0</td>\n",
       "      <td>0</td>\n",
       "      <td>1</td>\n",
       "      <td>19</td>\n",
       "      <td>0</td>\n",
       "      <td>7</td>\n",
       "      <td>2</td>\n",
       "      <td>3</td>\n",
       "      <td>8</td>\n",
       "    </tr>\n",
       "    <tr>\n",
       "      <th>Fluctuating</th>\n",
       "      <td>1</td>\n",
       "      <td>0</td>\n",
       "      <td>0</td>\n",
       "      <td>0</td>\n",
       "      <td>0</td>\n",
       "      <td>2</td>\n",
       "      <td>0</td>\n",
       "      <td>0</td>\n",
       "      <td>2</td>\n",
       "      <td>2</td>\n",
       "      <td>0</td>\n",
       "      <td>0</td>\n",
       "      <td>0</td>\n",
       "      <td>3</td>\n",
       "      <td>0</td>\n",
       "      <td>0</td>\n",
       "      <td>0</td>\n",
       "      <td>4</td>\n",
       "    </tr>\n",
       "    <tr>\n",
       "      <th>Medium Fast</th>\n",
       "      <td>52</td>\n",
       "      <td>21</td>\n",
       "      <td>1</td>\n",
       "      <td>32</td>\n",
       "      <td>10</td>\n",
       "      <td>19</td>\n",
       "      <td>22</td>\n",
       "      <td>3</td>\n",
       "      <td>20</td>\n",
       "      <td>24</td>\n",
       "      <td>24</td>\n",
       "      <td>20</td>\n",
       "      <td>54</td>\n",
       "      <td>26</td>\n",
       "      <td>21</td>\n",
       "      <td>21</td>\n",
       "      <td>13</td>\n",
       "      <td>43</td>\n",
       "    </tr>\n",
       "    <tr>\n",
       "      <th>Medium Slow</th>\n",
       "      <td>11</td>\n",
       "      <td>10</td>\n",
       "      <td>0</td>\n",
       "      <td>9</td>\n",
       "      <td>0</td>\n",
       "      <td>13</td>\n",
       "      <td>34</td>\n",
       "      <td>3</td>\n",
       "      <td>7</td>\n",
       "      <td>51</td>\n",
       "      <td>8</td>\n",
       "      <td>6</td>\n",
       "      <td>21</td>\n",
       "      <td>6</td>\n",
       "      <td>12</td>\n",
       "      <td>14</td>\n",
       "      <td>3</td>\n",
       "      <td>37</td>\n",
       "    </tr>\n",
       "    <tr>\n",
       "      <th>Slow</th>\n",
       "      <td>9</td>\n",
       "      <td>13</td>\n",
       "      <td>39</td>\n",
       "      <td>16</td>\n",
       "      <td>3</td>\n",
       "      <td>8</td>\n",
       "      <td>8</td>\n",
       "      <td>2</td>\n",
       "      <td>2</td>\n",
       "      <td>11</td>\n",
       "      <td>9</td>\n",
       "      <td>11</td>\n",
       "      <td>18</td>\n",
       "      <td>5</td>\n",
       "      <td>37</td>\n",
       "      <td>14</td>\n",
       "      <td>17</td>\n",
       "      <td>32</td>\n",
       "    </tr>\n",
       "  </tbody>\n",
       "</table>\n",
       "</div>"
      ],
      "text/plain": [
       "Type 1           Bug  Dark  Dragon  Electric  Fairy  Fighting  Fire  Flying  \\\n",
       "Experience type                                                               \n",
       "Erratic            4     0       2         0      0         0     0       0   \n",
       "Fast               4     2       0         2      9         0     0       0   \n",
       "Fluctuating        1     0       0         0      0         2     0       0   \n",
       "Medium Fast       52    21       1        32     10        19    22       3   \n",
       "Medium Slow       11    10       0         9      0        13    34       3   \n",
       "Slow               9    13      39        16      3         8     8       2   \n",
       "\n",
       "Type 1           Ghost  Grass  Ground  Ice  Normal  Poison  Psychic  Rock  \\\n",
       "Experience type                                                             \n",
       "Erratic              0      3       0    0       2       0        0     8   \n",
       "Fast                10      0       0    1      19       0        7     2   \n",
       "Fluctuating          2      2       0    0       0       3        0     0   \n",
       "Medium Fast         20     24      24   20      54      26       21    21   \n",
       "Medium Slow          7     51       8    6      21       6       12    14   \n",
       "Slow                 2     11       9   11      18       5       37    14   \n",
       "\n",
       "Type 1           Steel  Water  \n",
       "Experience type                \n",
       "Erratic              0      7  \n",
       "Fast                 3      8  \n",
       "Fluctuating          0      4  \n",
       "Medium Fast         13     43  \n",
       "Medium Slow          3     37  \n",
       "Slow                17     32  "
      ]
     },
     "execution_count": 13,
     "metadata": {},
     "output_type": "execute_result"
    }
   ],
   "source": [
    "pokemonContingencyTable = create_contingency_table(pokemon, 'Type 1','Experience type')\n",
    "pokemonContingencyTable"
   ]
  },
  {
   "cell_type": "markdown",
   "id": "9a866ea0",
   "metadata": {},
   "source": [
    "As expected earlier, some types level faster; namely types with less coverage."
   ]
  },
  {
   "cell_type": "code",
   "execution_count": 14,
   "id": "d8602c80",
   "metadata": {},
   "outputs": [
    {
     "data": {
      "text/plain": [
       "<AxesSubplot:xlabel='Experience type'>"
      ]
     },
     "execution_count": 14,
     "metadata": {},
     "output_type": "execute_result"
    },
    {
     "data": {
      "image/png": "[encoded data removed]",
      "text/plain": [
       "<Figure size 640x480 with 1 Axes>"
      ]
     },
     "metadata": {},
     "output_type": "display_data"
    }
   ],
   "source": [
    "pokemonContingencyTable.plot(kind='bar')"
   ]
  },
  {
   "cell_type": "markdown",
   "id": "9c7c51ac",
   "metadata": {},
   "source": [
    "While hard to read, this barplot is useful for seeing which types generally level up fast or slow. Types like bug or normal level up fast, while Dragon and Psychic level up slowly."
   ]
  },
  {
   "cell_type": "code",
   "execution_count": 15,
   "id": "275670a2",
   "metadata": {},
   "outputs": [
    {
     "name": "stdout",
     "output_type": "stream",
     "text": [
      "The odds of a correlation between Type 1 and Experience type is 100.0% (Based on a p value of 4.9168767382173473e-54).\n",
      "This percentage needs to be at least 95% for a significant correlation.\n"
     ]
    }
   ],
   "source": [
    "check_cat_vs_cat_correlation(pokemon, 'Type 1','Experience type')"
   ]
  }
 ],
 "metadata": {
  "kernelspec": {
   "display_name": "Python 3 (ipykernel)",
   "language": "python",
   "name": "python3"
  },
  "language_info": {
   "codemirror_mode": {
    "name": "ipython",
    "version": 3
   },
   "file_extension": ".py",
   "mimetype": "text/x-python",
   "name": "python",
   "nbconvert_exporter": "python",
   "pygments_lexer": "ipython3",
   "version": "3.9.13"
  }
 },
 "nbformat": 4,
 "nbformat_minor": 5
}
