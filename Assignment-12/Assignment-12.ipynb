{
 "cells": [
  {
   "cell_type": "markdown",
   "id": "c3ca89b5",
   "metadata": {},
   "source": [
    "# Importing..."
   ]
  },
  {
   "cell_type": "code",
   "execution_count": 1,
   "id": "bbfe9d81",
   "metadata": {},
   "outputs": [],
   "source": [
    "import pandas as pd"
   ]
  },
  {
   "cell_type": "code",
   "execution_count": 2,
   "id": "89b87392",
   "metadata": {},
   "outputs": [],
   "source": [
    "import seaborn as sns"
   ]
  },
  {
   "cell_type": "code",
   "execution_count": 3,
   "id": "ccea6ba5",
   "metadata": {},
   "outputs": [],
   "source": [
    "pokemon = pd.read_csv('../Dataset.csv', sep=',')"
   ]
  },
  {
   "cell_type": "markdown",
   "id": "6a379aa8",
   "metadata": {},
   "source": [
    "# Numerical vs Categorical bivariate analysis on 3 combinations..."
   ]
  },
  {
   "cell_type": "code",
   "execution_count": 6,
   "id": "6b0627ce",
   "metadata": {},
   "outputs": [
    {
     "data": {
      "text/html": [
       "<div>\n",
       "<style scoped>\n",
       "    .dataframe tbody tr th:only-of-type {\n",
       "        vertical-align: middle;\n",
       "    }\n",
       "\n",
       "    .dataframe tbody tr th {\n",
       "        vertical-align: top;\n",
       "    }\n",
       "\n",
       "    .dataframe thead th {\n",
       "        text-align: right;\n",
       "    }\n",
       "</style>\n",
       "<table border=\"1\" class=\"dataframe\">\n",
       "  <thead>\n",
       "    <tr style=\"text-align: right;\">\n",
       "      <th></th>\n",
       "      <th>Number</th>\n",
       "      <th>HP</th>\n",
       "      <th>Att</th>\n",
       "      <th>Def</th>\n",
       "      <th>Spa</th>\n",
       "      <th>Spd</th>\n",
       "      <th>Spe</th>\n",
       "      <th>BST</th>\n",
       "      <th>Mean</th>\n",
       "      <th>Standard Deviation</th>\n",
       "      <th>...</th>\n",
       "      <th>Against Bug</th>\n",
       "      <th>Against Rock</th>\n",
       "      <th>Against Ghost</th>\n",
       "      <th>Against Dragon</th>\n",
       "      <th>Against Dark</th>\n",
       "      <th>Against Steel</th>\n",
       "      <th>Against Fairy</th>\n",
       "      <th>Height</th>\n",
       "      <th>Weight</th>\n",
       "      <th>BMI</th>\n",
       "    </tr>\n",
       "    <tr>\n",
       "      <th>Legendary</th>\n",
       "      <th></th>\n",
       "      <th></th>\n",
       "      <th></th>\n",
       "      <th></th>\n",
       "      <th></th>\n",
       "      <th></th>\n",
       "      <th></th>\n",
       "      <th></th>\n",
       "      <th></th>\n",
       "      <th></th>\n",
       "      <th></th>\n",
       "      <th></th>\n",
       "      <th></th>\n",
       "      <th></th>\n",
       "      <th></th>\n",
       "      <th></th>\n",
       "      <th></th>\n",
       "      <th></th>\n",
       "      <th></th>\n",
       "      <th></th>\n",
       "      <th></th>\n",
       "    </tr>\n",
       "  </thead>\n",
       "  <tbody>\n",
       "    <tr>\n",
       "      <th>0.0</th>\n",
       "      <td>417.009923</td>\n",
       "      <td>66.593164</td>\n",
       "      <td>76.218302</td>\n",
       "      <td>71.471885</td>\n",
       "      <td>67.70011</td>\n",
       "      <td>68.522602</td>\n",
       "      <td>64.574421</td>\n",
       "      <td>415.080485</td>\n",
       "      <td>69.180081</td>\n",
       "      <td>19.445825</td>\n",
       "      <td>...</td>\n",
       "      <td>0.994487</td>\n",
       "      <td>1.253032</td>\n",
       "      <td>0.987321</td>\n",
       "      <td>0.96527</td>\n",
       "      <td>1.050717</td>\n",
       "      <td>0.989802</td>\n",
       "      <td>1.074421</td>\n",
       "      <td>1.107938</td>\n",
       "      <td>52.242227</td>\n",
       "      <td>41.010143</td>\n",
       "    </tr>\n",
       "    <tr>\n",
       "      <th>1.0</th>\n",
       "      <td>600.432000</td>\n",
       "      <td>93.944000</td>\n",
       "      <td>111.784000</td>\n",
       "      <td>97.376000</td>\n",
       "      <td>110.78400</td>\n",
       "      <td>98.384000</td>\n",
       "      <td>97.384000</td>\n",
       "      <td>609.656000</td>\n",
       "      <td>101.609333</td>\n",
       "      <td>24.253122</td>\n",
       "      <td>...</td>\n",
       "      <td>1.058000</td>\n",
       "      <td>1.144000</td>\n",
       "      <td>1.304000</td>\n",
       "      <td>1.04400</td>\n",
       "      <td>1.250000</td>\n",
       "      <td>1.008000</td>\n",
       "      <td>1.238000</td>\n",
       "      <td>2.584800</td>\n",
       "      <td>214.370400</td>\n",
       "      <td>831.320800</td>\n",
       "    </tr>\n",
       "  </tbody>\n",
       "</table>\n",
       "<p>2 rows × 38 columns</p>\n",
       "</div>"
      ],
      "text/plain": [
       "               Number         HP         Att        Def        Spa        Spd  \\\n",
       "Legendary                                                                       \n",
       "0.0        417.009923  66.593164   76.218302  71.471885   67.70011  68.522602   \n",
       "1.0        600.432000  93.944000  111.784000  97.376000  110.78400  98.384000   \n",
       "\n",
       "                 Spe         BST        Mean  Standard Deviation  ...  \\\n",
       "Legendary                                                         ...   \n",
       "0.0        64.574421  415.080485   69.180081           19.445825  ...   \n",
       "1.0        97.384000  609.656000  101.609333           24.253122  ...   \n",
       "\n",
       "           Against Bug  Against Rock  Against Ghost  Against Dragon  \\\n",
       "Legendary                                                             \n",
       "0.0           0.994487      1.253032       0.987321         0.96527   \n",
       "1.0           1.058000      1.144000       1.304000         1.04400   \n",
       "\n",
       "           Against Dark  Against Steel  Against Fairy    Height      Weight  \\\n",
       "Legendary                                                                     \n",
       "0.0            1.050717       0.989802       1.074421  1.107938   52.242227   \n",
       "1.0            1.250000       1.008000       1.238000  2.584800  214.370400   \n",
       "\n",
       "                  BMI  \n",
       "Legendary              \n",
       "0.0         41.010143  \n",
       "1.0        831.320800  \n",
       "\n",
       "[2 rows x 38 columns]"
      ]
     },
     "execution_count": 6,
     "metadata": {},
     "output_type": "execute_result"
    }
   ],
   "source": [
    "pokemon.groupby('Legendary').mean()"
   ]
  },
  {
   "cell_type": "code",
   "execution_count": 9,
   "id": "405d1bde",
   "metadata": {},
   "outputs": [
    {
     "data": {
      "text/plain": [
       "<AxesSubplot:xlabel='Legendary', ylabel='Catch Rate'>"
      ]
     },
     "execution_count": 9,
     "metadata": {},
     "output_type": "execute_result"
    },
    {
     "data": {
      "image/png": "[encoded data removed]",
      "text/plain": [
       "<Figure size 640x480 with 1 Axes>"
      ]
     },
     "metadata": {},
     "output_type": "display_data"
    }
   ],
   "source": [
    "sns.barplot(y=\"Catch Rate\", x=\"Legendary\", data=pokemon)"
   ]
  },
  {
   "cell_type": "markdown",
   "id": "298326f5",
   "metadata": {},
   "source": [
    "As is very apparent from the above barplot, legendary pokemon have a much lower catch rate."
   ]
  },
  {
   "cell_type": "code",
   "execution_count": 11,
   "id": "a9b31561",
   "metadata": {},
   "outputs": [
    {
     "data": {
      "text/plain": [
       "<AxesSubplot:xlabel='Legendary', ylabel='Experience to level 100'>"
      ]
     },
     "execution_count": 11,
     "metadata": {},
     "output_type": "execute_result"
    },
    {
     "data": {
      "image/png": "[encoded data removed]",
      "text/plain": [
       "<Figure size 640x480 with 1 Axes>"
      ]
     },
     "metadata": {},
     "output_type": "display_data"
    }
   ],
   "source": [
    "sns.barplot(y=\"Experience to level 100\", x=\"Legendary\", data=pokemon)"
   ]
  },
  {
   "cell_type": "markdown",
   "id": "1f702f3f",
   "metadata": {},
   "source": [
    "The above barplot shows that a legendary pokemon needs a lot more experience to get to level 100, if compared to non-legendary pokemon."
   ]
  },
  {
   "cell_type": "code",
   "execution_count": 12,
   "id": "4404ab10",
   "metadata": {},
   "outputs": [
    {
     "data": {
      "text/plain": [
       "<AxesSubplot:xlabel='Legendary', ylabel='HP'>"
      ]
     },
     "execution_count": 12,
     "metadata": {},
     "output_type": "execute_result"
    },
    {
     "data": {
      "image/png": "[encoded data removed]",
      "text/plain": [
       "<Figure size 640x480 with 1 Axes>"
      ]
     },
     "metadata": {},
     "output_type": "display_data"
    }
   ],
   "source": [
    "sns.barplot(y=\"HP\", x=\"Legendary\", data=pokemon)"
   ]
  },
  {
   "cell_type": "markdown",
   "id": "69989ed9",
   "metadata": {},
   "source": [
    "As is apparent from the above barplot, legendary pokemon have a much higher base HP than non-legendary pokemon. All these barplots seem to show that legendary pokemon excel in stats, but need a lot more work to acquire and level up."
   ]
  }
 ],
 "metadata": {
  "kernelspec": {
   "display_name": "Python 3 (ipykernel)",
   "language": "python",
   "name": "python3"
  },
  "language_info": {
   "codemirror_mode": {
    "name": "ipython",
    "version": 3
   },
   "file_extension": ".py",
   "mimetype": "text/x-python",
   "name": "python",
   "nbconvert_exporter": "python",
   "pygments_lexer": "ipython3",
   "version": "3.9.13"
  }
 },
 "nbformat": 4,
 "nbformat_minor": 5
}
