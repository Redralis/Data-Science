{
 "cells": [
  {
   "cell_type": "markdown",
   "id": "1d7ecce3",
   "metadata": {},
   "source": [
    "# Importing..."
   ]
  },
  {
   "cell_type": "code",
   "execution_count": 19,
   "id": "5ccc9e50",
   "metadata": {},
   "outputs": [],
   "source": [
    "import pandas as pd"
   ]
  },
  {
   "cell_type": "code",
   "execution_count": 20,
   "id": "ec20c4ce",
   "metadata": {},
   "outputs": [],
   "source": [
    "import seaborn as sns"
   ]
  },
  {
   "cell_type": "code",
   "execution_count": 21,
   "id": "6e837914",
   "metadata": {},
   "outputs": [],
   "source": [
    "import numpy as np"
   ]
  },
  {
   "cell_type": "code",
   "execution_count": 22,
   "id": "d309007a",
   "metadata": {},
   "outputs": [],
   "source": [
    "from sklearn.model_selection import train_test_split"
   ]
  },
  {
   "cell_type": "code",
   "execution_count": 23,
   "id": "384542dc",
   "metadata": {},
   "outputs": [],
   "source": [
    "from sklearn.tree import DecisionTreeRegressor"
   ]
  },
  {
   "cell_type": "code",
   "execution_count": 24,
   "id": "00bb66e9",
   "metadata": {},
   "outputs": [],
   "source": [
    "def calculate_rmse(predictions, actuals):\n",
    "    if(len(predictions) != len(actuals)):\n",
    "        raise Exception(\"The amount of predictions did not equal the amount of actuals\")\n",
    "    \n",
    "    return (((predictions - actuals) ** 2).sum() / len(actuals)) ** (1/2)"
   ]
  },
  {
   "cell_type": "code",
   "execution_count": 25,
   "id": "e32f0abd",
   "metadata": {},
   "outputs": [],
   "source": [
    "penguins = sns.load_dataset(\"penguins\").dropna()"
   ]
  },
  {
   "cell_type": "markdown",
   "id": "37c4e9c5",
   "metadata": {},
   "source": [
    "# Training a decision tree to predict a penguin's body mass based on their characteristics..."
   ]
  },
  {
   "cell_type": "markdown",
   "id": "355e4d42",
   "metadata": {},
   "source": [
    "Splitting the dataset and making a decision tree regressor..."
   ]
  },
  {
   "cell_type": "code",
   "execution_count": 26,
   "id": "fd7f9c7c",
   "metadata": {},
   "outputs": [
    {
     "name": "stdout",
     "output_type": "stream",
     "text": [
      "(233, 7) (100, 7)\n"
     ]
    }
   ],
   "source": [
    "penguins_train, penguins_test = train_test_split(penguins, test_size=0.3, random_state=42, stratify=penguins['species'])\n",
    "print(penguins_train.shape, penguins_test.shape)"
   ]
  },
  {
   "cell_type": "code",
   "execution_count": 27,
   "id": "840e49ea",
   "metadata": {},
   "outputs": [
    {
     "data": {
      "text/plain": [
       "DecisionTreeRegressor(max_depth=2)"
      ]
     },
     "execution_count": 27,
     "metadata": {},
     "output_type": "execute_result"
    }
   ],
   "source": [
    "features= ['bill_length_mm', 'flipper_length_mm']\n",
    "dt_regression = DecisionTreeRegressor(max_depth = 2)\n",
    "dt_regression.fit(penguins_train[features], penguins_train['body_mass_g'])"
   ]
  },
  {
   "cell_type": "code",
   "execution_count": 28,
   "id": "18617d2c",
   "metadata": {},
   "outputs": [],
   "source": [
    "predictionsOnTrainset = dt_regression.predict(penguins_train[features])\n",
    "predictionsOnTestset = dt_regression.predict(penguins_test[features])"
   ]
  },
  {
   "cell_type": "code",
   "execution_count": 29,
   "id": "2f2571f5",
   "metadata": {},
   "outputs": [
    {
     "name": "stdout",
     "output_type": "stream",
     "text": [
      "RMSE on training set 376.578459181854\n",
      "Normalised RMSE on training set 0.11075837034760411\n",
      "RMSE on test set 446.4270328732305\n",
      "Normalised RMSE on test set 0.1417228675788033\n"
     ]
    }
   ],
   "source": [
    "rmseTrain = calculate_rmse(predictionsOnTrainset, penguins_train.body_mass_g)\n",
    "rmseTest = calculate_rmse(predictionsOnTestset, penguins_test.body_mass_g)\n",
    "\n",
    "print(\"RMSE on training set \" + str(rmseTrain))\n",
    "print(\"Normalised RMSE on training set \" + str(rmseTrain / (penguins_train.body_mass_g.max() - penguins_train.body_mass_g.min())))\n",
    "print(\"RMSE on test set \" + str(rmseTest))\n",
    "print(\"Normalised RMSE on test set \" + str(rmseTest / (penguins_test.body_mass_g.max() - penguins_test.body_mass_g.min())))"
   ]
  },
  {
   "cell_type": "markdown",
   "id": "14191d10",
   "metadata": {},
   "source": [
    "I expected the training set to be more accurate by a lot. It was more accurate, but the difference between the accuracies isn't big."
   ]
  },
  {
   "cell_type": "markdown",
   "id": "15e3c841",
   "metadata": {},
   "source": [
    "## Making a plottree..."
   ]
  },
  {
   "cell_type": "code",
   "execution_count": 30,
   "id": "b7fd9ac1",
   "metadata": {},
   "outputs": [],
   "source": [
    "from sklearn import tree\n",
    "import graphviz\n",
    "\n",
    "def plot_tree_regression(model, features):\n",
    "    # Generate plot data\n",
    "    dot_data = tree.export_graphviz(model, out_file=None, \n",
    "                          feature_names=features,  \n",
    "                          filled=True, rounded=True,  \n",
    "                          special_characters=True)  \n",
    "\n",
    "    # Turn into graph using graphviz\n",
    "    graph = graphviz.Source(dot_data)  \n",
    "\n",
    "    # Write out a pdf\n",
    "    graph.render(\"decision_tree\")\n",
    "\n",
    "    # Display in the notebook\n",
    "    return graph "
   ]
  },
  {
   "cell_type": "code",
   "execution_count": 31,
   "id": "7ec91e13",
   "metadata": {},
   "outputs": [
    {
     "data": {
      "image/svg+xml": [
       "<?xml version=\"1.0\" encoding=\"UTF-8\" standalone=\"no\"?>\n",
       "<!DOCTYPE svg PUBLIC \"-//W3C//DTD SVG 1.1//EN\"\n",
       " \"http://www.w3.org/Graphics/SVG/1.1/DTD/svg11.dtd\">\n",
       "<!-- Generated by graphviz version 2.50.0 (0)\n",
       " -->\n",
       "<!-- Title: Tree Pages: 1 -->\n",
       "<svg width=\"808pt\" height=\"269pt\"\n",
       " viewBox=\"0.00 0.00 808.00 269.00\" xmlns=\"http://www.w3.org/2000/svg\" xmlns:xlink=\"http://www.w3.org/1999/xlink\">\n",
       "<g id=\"graph0\" class=\"graph\" transform=\"scale(1 1) rotate(0) translate(4 265)\">\n",
       "<title>Tree</title>\n",
       "<polygon fill=\"white\" stroke=\"transparent\" points=\"-4,4 -4,-265 804,-265 804,4 -4,4\"/>\n",
       "<!-- 0 -->\n",
       "<g id=\"node1\" class=\"node\">\n",
       "<title>0</title>\n",
       "<path fill=\"#f8dbc6\" stroke=\"black\" d=\"M479.5,-261C479.5,-261 322.5,-261 322.5,-261 316.5,-261 310.5,-255 310.5,-249 310.5,-249 310.5,-205 310.5,-205 310.5,-199 316.5,-193 322.5,-193 322.5,-193 479.5,-193 479.5,-193 485.5,-193 491.5,-199 491.5,-205 491.5,-205 491.5,-249 491.5,-249 491.5,-255 485.5,-261 479.5,-261\"/>\n",
       "<text text-anchor=\"start\" x=\"320\" y=\"-245.8\" font-family=\"Helvetica,sans-Serif\" font-size=\"14.00\">flipper_length_mm ≤ 210.5</text>\n",
       "<text text-anchor=\"start\" x=\"318.5\" y=\"-230.8\" font-family=\"Helvetica,sans-Serif\" font-size=\"14.00\">squared_error = 644479.66</text>\n",
       "<text text-anchor=\"start\" x=\"356\" y=\"-215.8\" font-family=\"Helvetica,sans-Serif\" font-size=\"14.00\">samples = 233</text>\n",
       "<text text-anchor=\"start\" x=\"348.5\" y=\"-200.8\" font-family=\"Helvetica,sans-Serif\" font-size=\"14.00\">value = 4230.901</text>\n",
       "</g>\n",
       "<!-- 1 -->\n",
       "<g id=\"node2\" class=\"node\">\n",
       "<title>1</title>\n",
       "<path fill=\"#fdf7f3\" stroke=\"black\" d=\"M382,-157C382,-157 218,-157 218,-157 212,-157 206,-151 206,-145 206,-145 206,-101 206,-101 206,-95 212,-89 218,-89 218,-89 382,-89 382,-89 388,-89 394,-95 394,-101 394,-101 394,-145 394,-145 394,-151 388,-157 382,-157\"/>\n",
       "<text text-anchor=\"start\" x=\"219\" y=\"-141.8\" font-family=\"Helvetica,sans-Serif\" font-size=\"14.00\">flipper_length_mm ≤ 202.5</text>\n",
       "<text text-anchor=\"start\" x=\"214\" y=\"-126.8\" font-family=\"Helvetica,sans-Serif\" font-size=\"14.00\">squared_error = 211257.157</text>\n",
       "<text text-anchor=\"start\" x=\"255\" y=\"-111.8\" font-family=\"Helvetica,sans-Serif\" font-size=\"14.00\">samples = 164</text>\n",
       "<text text-anchor=\"start\" x=\"247.5\" y=\"-96.8\" font-family=\"Helvetica,sans-Serif\" font-size=\"14.00\">value = 3803.963</text>\n",
       "</g>\n",
       "<!-- 0&#45;&gt;1 -->\n",
       "<g id=\"edge1\" class=\"edge\">\n",
       "<title>0&#45;&gt;1</title>\n",
       "<path fill=\"none\" stroke=\"black\" d=\"M368.21,-192.88C359.3,-183.89 349.55,-174.04 340.28,-164.68\"/>\n",
       "<polygon fill=\"black\" stroke=\"black\" points=\"342.5,-161.94 332.97,-157.3 337.52,-166.87 342.5,-161.94\"/>\n",
       "<text text-anchor=\"middle\" x=\"332.85\" y=\"-178.6\" font-family=\"Helvetica,sans-Serif\" font-size=\"14.00\">True</text>\n",
       "</g>\n",
       "<!-- 4 -->\n",
       "<g id=\"node5\" class=\"node\">\n",
       "<title>4</title>\n",
       "<path fill=\"#ea975c\" stroke=\"black\" d=\"M581,-157C581,-157 425,-157 425,-157 419,-157 413,-151 413,-145 413,-145 413,-101 413,-101 413,-95 419,-89 425,-89 425,-89 581,-89 581,-89 587,-89 593,-95 593,-101 593,-101 593,-145 593,-145 593,-151 587,-157 581,-157\"/>\n",
       "<text text-anchor=\"start\" x=\"422\" y=\"-141.8\" font-family=\"Helvetica,sans-Serif\" font-size=\"14.00\">flipper_length_mm ≤ 219.5</text>\n",
       "<text text-anchor=\"start\" x=\"421\" y=\"-126.8\" font-family=\"Helvetica,sans-Serif\" font-size=\"14.00\">squared_error = 211212.98</text>\n",
       "<text text-anchor=\"start\" x=\"462\" y=\"-111.8\" font-family=\"Helvetica,sans-Serif\" font-size=\"14.00\">samples = 69</text>\n",
       "<text text-anchor=\"start\" x=\"450.5\" y=\"-96.8\" font-family=\"Helvetica,sans-Serif\" font-size=\"14.00\">value = 5245.652</text>\n",
       "</g>\n",
       "<!-- 0&#45;&gt;4 -->\n",
       "<g id=\"edge4\" class=\"edge\">\n",
       "<title>0&#45;&gt;4</title>\n",
       "<path fill=\"none\" stroke=\"black\" d=\"M434.12,-192.88C443.2,-183.8 453.15,-173.85 462.6,-164.4\"/>\n",
       "<polygon fill=\"black\" stroke=\"black\" points=\"465.1,-166.85 469.7,-157.3 460.15,-161.9 465.1,-166.85\"/>\n",
       "<text text-anchor=\"middle\" x=\"469.7\" y=\"-178.6\" font-family=\"Helvetica,sans-Serif\" font-size=\"14.00\">False</text>\n",
       "</g>\n",
       "<!-- 2 -->\n",
       "<g id=\"node3\" class=\"node\">\n",
       "<title>2</title>\n",
       "<path fill=\"#ffffff\" stroke=\"black\" d=\"M176,-53C176,-53 12,-53 12,-53 6,-53 0,-47 0,-41 0,-41 0,-12 0,-12 0,-6 6,0 12,0 12,0 176,0 176,0 182,0 188,-6 188,-12 188,-12 188,-41 188,-41 188,-47 182,-53 176,-53\"/>\n",
       "<text text-anchor=\"start\" x=\"8\" y=\"-37.8\" font-family=\"Helvetica,sans-Serif\" font-size=\"14.00\">squared_error = 152694.869</text>\n",
       "<text text-anchor=\"start\" x=\"49\" y=\"-22.8\" font-family=\"Helvetica,sans-Serif\" font-size=\"14.00\">samples = 137</text>\n",
       "<text text-anchor=\"start\" x=\"41.5\" y=\"-7.8\" font-family=\"Helvetica,sans-Serif\" font-size=\"14.00\">value = 3690.146</text>\n",
       "</g>\n",
       "<!-- 1&#45;&gt;2 -->\n",
       "<g id=\"edge2\" class=\"edge\">\n",
       "<title>1&#45;&gt;2</title>\n",
       "<path fill=\"none\" stroke=\"black\" d=\"M227.95,-88.95C205.51,-78.66 180.92,-67.37 158.99,-57.32\"/>\n",
       "<polygon fill=\"black\" stroke=\"black\" points=\"160.32,-54.08 149.78,-53.09 157.41,-60.44 160.32,-54.08\"/>\n",
       "</g>\n",
       "<!-- 3 -->\n",
       "<g id=\"node4\" class=\"node\">\n",
       "<title>3</title>\n",
       "<path fill=\"#f5d1b6\" stroke=\"black\" d=\"M382,-53C382,-53 218,-53 218,-53 212,-53 206,-47 206,-41 206,-41 206,-12 206,-12 206,-6 212,0 218,0 218,0 382,0 382,0 388,0 394,-6 394,-12 394,-12 394,-41 394,-41 394,-47 388,-53 382,-53\"/>\n",
       "<text text-anchor=\"start\" x=\"214\" y=\"-37.8\" font-family=\"Helvetica,sans-Serif\" font-size=\"14.00\">squared_error = 109147.805</text>\n",
       "<text text-anchor=\"start\" x=\"259\" y=\"-22.8\" font-family=\"Helvetica,sans-Serif\" font-size=\"14.00\">samples = 27</text>\n",
       "<text text-anchor=\"start\" x=\"247.5\" y=\"-7.8\" font-family=\"Helvetica,sans-Serif\" font-size=\"14.00\">value = 4381.481</text>\n",
       "</g>\n",
       "<!-- 1&#45;&gt;3 -->\n",
       "<g id=\"edge3\" class=\"edge\">\n",
       "<title>1&#45;&gt;3</title>\n",
       "<path fill=\"none\" stroke=\"black\" d=\"M300,-88.95C300,-80.72 300,-71.85 300,-63.48\"/>\n",
       "<polygon fill=\"black\" stroke=\"black\" points=\"303.5,-63.24 300,-53.24 296.5,-63.24 303.5,-63.24\"/>\n",
       "</g>\n",
       "<!-- 5 -->\n",
       "<g id=\"node6\" class=\"node\">\n",
       "<title>5</title>\n",
       "<path fill=\"#eda775\" stroke=\"black\" d=\"M581.5,-53C581.5,-53 424.5,-53 424.5,-53 418.5,-53 412.5,-47 412.5,-41 412.5,-41 412.5,-12 412.5,-12 412.5,-6 418.5,0 424.5,0 424.5,0 581.5,0 581.5,0 587.5,0 593.5,-6 593.5,-12 593.5,-12 593.5,-41 593.5,-41 593.5,-47 587.5,-53 581.5,-53\"/>\n",
       "<text text-anchor=\"start\" x=\"420.5\" y=\"-37.8\" font-family=\"Helvetica,sans-Serif\" font-size=\"14.00\">squared_error = 156193.75</text>\n",
       "<text text-anchor=\"start\" x=\"462\" y=\"-22.8\" font-family=\"Helvetica,sans-Serif\" font-size=\"14.00\">samples = 40</text>\n",
       "<text text-anchor=\"start\" x=\"458\" y=\"-7.8\" font-family=\"Helvetica,sans-Serif\" font-size=\"14.00\">value = 5007.5</text>\n",
       "</g>\n",
       "<!-- 4&#45;&gt;5 -->\n",
       "<g id=\"edge5\" class=\"edge\">\n",
       "<title>4&#45;&gt;5</title>\n",
       "<path fill=\"none\" stroke=\"black\" d=\"M503,-88.95C503,-80.72 503,-71.85 503,-63.48\"/>\n",
       "<polygon fill=\"black\" stroke=\"black\" points=\"506.5,-63.24 503,-53.24 499.5,-63.24 506.5,-63.24\"/>\n",
       "</g>\n",
       "<!-- 6 -->\n",
       "<g id=\"node7\" class=\"node\">\n",
       "<title>6</title>\n",
       "<path fill=\"#e58139\" stroke=\"black\" d=\"M788,-53C788,-53 624,-53 624,-53 618,-53 612,-47 612,-41 612,-41 612,-12 612,-12 612,-6 618,0 624,0 624,0 788,0 788,0 794,0 800,-6 800,-12 800,-12 800,-41 800,-41 800,-47 794,-53 788,-53\"/>\n",
       "<text text-anchor=\"start\" x=\"620\" y=\"-37.8\" font-family=\"Helvetica,sans-Serif\" font-size=\"14.00\">squared_error = 100969.084</text>\n",
       "<text text-anchor=\"start\" x=\"665\" y=\"-22.8\" font-family=\"Helvetica,sans-Serif\" font-size=\"14.00\">samples = 29</text>\n",
       "<text text-anchor=\"start\" x=\"653.5\" y=\"-7.8\" font-family=\"Helvetica,sans-Serif\" font-size=\"14.00\">value = 5574.138</text>\n",
       "</g>\n",
       "<!-- 4&#45;&gt;6 -->\n",
       "<g id=\"edge6\" class=\"edge\">\n",
       "<title>4&#45;&gt;6</title>\n",
       "<path fill=\"none\" stroke=\"black\" d=\"M574,-88.95C596.11,-78.66 620.35,-67.37 641.95,-57.32\"/>\n",
       "<polygon fill=\"black\" stroke=\"black\" points=\"643.45,-60.48 651.04,-53.09 640.49,-54.13 643.45,-60.48\"/>\n",
       "</g>\n",
       "</g>\n",
       "</svg>\n"
      ],
      "text/plain": [
       "<graphviz.sources.Source at 0x1dfc957fe20>"
      ]
     },
     "execution_count": 31,
     "metadata": {},
     "output_type": "execute_result"
    }
   ],
   "source": [
    "plot_tree_regression(dt_regression, features)"
   ]
  }
 ],
 "metadata": {
  "kernelspec": {
   "display_name": "Python 3 (ipykernel)",
   "language": "python",
   "name": "python3"
  },
  "language_info": {
   "codemirror_mode": {
    "name": "ipython",
    "version": 3
   },
   "file_extension": ".py",
   "mimetype": "text/x-python",
   "name": "python",
   "nbconvert_exporter": "python",
   "pygments_lexer": "ipython3",
   "version": "3.9.13"
  }
 },
 "nbformat": 4,
 "nbformat_minor": 5
}
