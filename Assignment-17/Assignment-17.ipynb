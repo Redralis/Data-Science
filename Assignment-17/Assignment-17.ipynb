{
 "cells": [
  {
   "cell_type": "markdown",
   "id": "1d7ecce3",
   "metadata": {},
   "source": [
    "# Importing..."
   ]
  },
  {
   "cell_type": "code",
   "execution_count": 1,
   "id": "5ccc9e50",
   "metadata": {},
   "outputs": [],
   "source": [
    "import pandas as pd"
   ]
  },
  {
   "cell_type": "code",
   "execution_count": 2,
   "id": "ec20c4ce",
   "metadata": {},
   "outputs": [],
   "source": [
    "import seaborn as sns"
   ]
  },
  {
   "cell_type": "code",
   "execution_count": 3,
   "id": "6e837914",
   "metadata": {},
   "outputs": [],
   "source": [
    "import numpy as np"
   ]
  },
  {
   "cell_type": "code",
   "execution_count": 4,
   "id": "d309007a",
   "metadata": {},
   "outputs": [],
   "source": [
    "from sklearn.model_selection import train_test_split"
   ]
  },
  {
   "cell_type": "code",
   "execution_count": 5,
   "id": "384542dc",
   "metadata": {},
   "outputs": [],
   "source": [
    "from sklearn.tree import DecisionTreeRegressor"
   ]
  },
  {
   "cell_type": "code",
   "execution_count": 6,
   "id": "00bb66e9",
   "metadata": {},
   "outputs": [],
   "source": [
    "def calculate_rmse(predictions, actuals):\n",
    "    if(len(predictions) != len(actuals)):\n",
    "        raise Exception(\"The amount of predictions did not equal the amount of actuals\")\n",
    "    \n",
    "    return (((predictions - actuals) ** 2).sum() / len(actuals)) ** (1/2)"
   ]
  },
  {
   "cell_type": "code",
   "execution_count": 7,
   "id": "e32f0abd",
   "metadata": {},
   "outputs": [],
   "source": [
    "penguins = sns.load_dataset(\"penguins\").dropna()"
   ]
  },
  {
   "cell_type": "markdown",
   "id": "37c4e9c5",
   "metadata": {},
   "source": [
    "# Training a decision tree to predict a penguin's body mass based on their characteristics..."
   ]
  },
  {
   "cell_type": "markdown",
   "id": "355e4d42",
   "metadata": {},
   "source": [
    "Splitting the dataset and making a decision tree regressor..."
   ]
  },
  {
   "cell_type": "code",
   "execution_count": 8,
   "id": "fd7f9c7c",
   "metadata": {},
   "outputs": [
    {
     "name": "stdout",
     "output_type": "stream",
     "text": [
      "(233, 7) (100, 7)\n"
     ]
    }
   ],
   "source": [
    "penguins_train, penguins_test = train_test_split(penguins, test_size=0.3, random_state=42, stratify=penguins['species'])\n",
    "print(penguins_train.shape, penguins_test.shape)"
   ]
  },
  {
   "cell_type": "code",
   "execution_count": 14,
   "id": "840e49ea",
   "metadata": {},
   "outputs": [
    {
     "data": {
      "text/plain": [
       "DecisionTreeRegressor(max_depth=1)"
      ]
     },
     "execution_count": 14,
     "metadata": {},
     "output_type": "execute_result"
    }
   ],
   "source": [
    "features= ['bill_length_mm', 'flipper_length_mm']\n",
    "dt_regression = DecisionTreeRegressor(max_depth = 2)\n",
    "dt_regression.fit(penguins_train[features], penguins_train['body_mass_g'])"
   ]
  },
  {
   "cell_type": "code",
   "execution_count": 15,
   "id": "18617d2c",
   "metadata": {},
   "outputs": [],
   "source": [
    "predictionsOnTrainset = dt_regression.predict(penguins_train[features])\n",
    "predictionsOnTestset = dt_regression.predict(penguins_test[features])"
   ]
  },
  {
   "cell_type": "code",
   "execution_count": 16,
   "id": "2f2571f5",
   "metadata": {},
   "outputs": [
    {
     "name": "stdout",
     "output_type": "stream",
     "text": [
      "RMSE on training set 459.61296197810896\n",
      "Normalised RMSE on training set 0.13518028293473794\n",
      "RMSE on test set 528.3636519489469\n",
      "Normalised RMSE on test set 0.16773449268220536\n"
     ]
    }
   ],
   "source": [
    "rmseTrain = calculate_rmse(predictionsOnTrainset, penguins_train.body_mass_g)\n",
    "rmseTest = calculate_rmse(predictionsOnTestset, penguins_test.body_mass_g)\n",
    "\n",
    "print(\"RMSE on training set \" + str(rmseTrain))\n",
    "print(\"Normalised RMSE on training set \" + str(rmseTrain / (penguins_train.body_mass_g.max() - penguins_train.body_mass_g.min())))\n",
    "print(\"RMSE on test set \" + str(rmseTest))\n",
    "print(\"Normalised RMSE on test set \" + str(rmseTest / (penguins_test.body_mass_g.max() - penguins_test.body_mass_g.min())))"
   ]
  },
  {
   "cell_type": "markdown",
   "id": "14191d10",
   "metadata": {},
   "source": [
    "I expected the training set to be more accurate by a lot. It was more accurate, but the difference between the accuracies isn't big."
   ]
  },
  {
   "cell_type": "markdown",
   "id": "15e3c841",
   "metadata": {},
   "source": [
    "## Making a plottree..."
   ]
  },
  {
   "cell_type": "code",
   "execution_count": 17,
   "id": "b7fd9ac1",
   "metadata": {},
   "outputs": [],
   "source": [
    "from sklearn import tree\n",
    "import graphviz\n",
    "\n",
    "def plot_tree_regression(model, features):\n",
    "    # Generate plot data\n",
    "    dot_data = tree.export_graphviz(model, out_file=None, \n",
    "                          feature_names=features,  \n",
    "                          filled=True, rounded=True,  \n",
    "                          special_characters=True)  \n",
    "\n",
    "    # Turn into graph using graphviz\n",
    "    graph = graphviz.Source(dot_data)  \n",
    "\n",
    "    # Write out a pdf\n",
    "    graph.render(\"decision_tree\")\n",
    "\n",
    "    # Display in the notebook\n",
    "    return graph "
   ]
  },
  {
   "cell_type": "code",
   "execution_count": 18,
   "id": "7ec91e13",
   "metadata": {},
   "outputs": [
    {
     "data": {
      "image/svg+xml": [
       "<?xml version=\"1.0\" encoding=\"UTF-8\" standalone=\"no\"?>\n",
       "<!DOCTYPE svg PUBLIC \"-//W3C//DTD SVG 1.1//EN\"\n",
       " \"http://www.w3.org/Graphics/SVG/1.1/DTD/svg11.dtd\">\n",
       "<!-- Generated by graphviz version 2.50.0 (0)\n",
       " -->\n",
       "<!-- Title: Tree Pages: 1 -->\n",
       "<svg width=\"394pt\" height=\"165pt\"\n",
       " viewBox=\"0.00 0.00 394.00 165.00\" xmlns=\"http://www.w3.org/2000/svg\" xmlns:xlink=\"http://www.w3.org/1999/xlink\">\n",
       "<g id=\"graph0\" class=\"graph\" transform=\"scale(1 1) rotate(0) translate(4 161)\">\n",
       "<title>Tree</title>\n",
       "<polygon fill=\"white\" stroke=\"transparent\" points=\"-4,4 -4,-161 390,-161 390,4 -4,4\"/>\n",
       "<!-- 0 -->\n",
       "<g id=\"node1\" class=\"node\">\n",
       "<title>0</title>\n",
       "<path fill=\"#f7dac4\" stroke=\"black\" d=\"M273.5,-157C273.5,-157 116.5,-157 116.5,-157 110.5,-157 104.5,-151 104.5,-145 104.5,-145 104.5,-101 104.5,-101 104.5,-95 110.5,-89 116.5,-89 116.5,-89 273.5,-89 273.5,-89 279.5,-89 285.5,-95 285.5,-101 285.5,-101 285.5,-145 285.5,-145 285.5,-151 279.5,-157 273.5,-157\"/>\n",
       "<text text-anchor=\"start\" x=\"114\" y=\"-141.8\" font-family=\"Helvetica,sans-Serif\" font-size=\"14.00\">flipper_length_mm ≤ 210.5</text>\n",
       "<text text-anchor=\"start\" x=\"112.5\" y=\"-126.8\" font-family=\"Helvetica,sans-Serif\" font-size=\"14.00\">squared_error = 644479.66</text>\n",
       "<text text-anchor=\"start\" x=\"150\" y=\"-111.8\" font-family=\"Helvetica,sans-Serif\" font-size=\"14.00\">samples = 233</text>\n",
       "<text text-anchor=\"start\" x=\"142.5\" y=\"-96.8\" font-family=\"Helvetica,sans-Serif\" font-size=\"14.00\">value = 4230.901</text>\n",
       "</g>\n",
       "<!-- 1 -->\n",
       "<g id=\"node2\" class=\"node\">\n",
       "<title>1</title>\n",
       "<path fill=\"#ffffff\" stroke=\"black\" d=\"M176,-53C176,-53 12,-53 12,-53 6,-53 0,-47 0,-41 0,-41 0,-12 0,-12 0,-6 6,0 12,0 12,0 176,0 176,0 182,0 188,-6 188,-12 188,-12 188,-41 188,-41 188,-47 182,-53 176,-53\"/>\n",
       "<text text-anchor=\"start\" x=\"8\" y=\"-37.8\" font-family=\"Helvetica,sans-Serif\" font-size=\"14.00\">squared_error = 211257.157</text>\n",
       "<text text-anchor=\"start\" x=\"49\" y=\"-22.8\" font-family=\"Helvetica,sans-Serif\" font-size=\"14.00\">samples = 164</text>\n",
       "<text text-anchor=\"start\" x=\"41.5\" y=\"-7.8\" font-family=\"Helvetica,sans-Serif\" font-size=\"14.00\">value = 3803.963</text>\n",
       "</g>\n",
       "<!-- 0&#45;&gt;1 -->\n",
       "<g id=\"edge1\" class=\"edge\">\n",
       "<title>0&#45;&gt;1</title>\n",
       "<path fill=\"none\" stroke=\"black\" d=\"M159.68,-88.95C149.7,-79.62 138.86,-69.47 128.91,-60.16\"/>\n",
       "<polygon fill=\"black\" stroke=\"black\" points=\"131.2,-57.51 121.51,-53.24 126.42,-62.62 131.2,-57.51\"/>\n",
       "<text text-anchor=\"middle\" x=\"122.34\" y=\"-74.52\" font-family=\"Helvetica,sans-Serif\" font-size=\"14.00\">True</text>\n",
       "</g>\n",
       "<!-- 2 -->\n",
       "<g id=\"node3\" class=\"node\">\n",
       "<title>2</title>\n",
       "<path fill=\"#e58139\" stroke=\"black\" d=\"M374,-53C374,-53 218,-53 218,-53 212,-53 206,-47 206,-41 206,-41 206,-12 206,-12 206,-6 212,0 218,0 218,0 374,0 374,0 380,0 386,-6 386,-12 386,-12 386,-41 386,-41 386,-47 380,-53 374,-53\"/>\n",
       "<text text-anchor=\"start\" x=\"214\" y=\"-37.8\" font-family=\"Helvetica,sans-Serif\" font-size=\"14.00\">squared_error = 211212.98</text>\n",
       "<text text-anchor=\"start\" x=\"255\" y=\"-22.8\" font-family=\"Helvetica,sans-Serif\" font-size=\"14.00\">samples = 69</text>\n",
       "<text text-anchor=\"start\" x=\"243.5\" y=\"-7.8\" font-family=\"Helvetica,sans-Serif\" font-size=\"14.00\">value = 5245.652</text>\n",
       "</g>\n",
       "<!-- 0&#45;&gt;2 -->\n",
       "<g id=\"edge2\" class=\"edge\">\n",
       "<title>0&#45;&gt;2</title>\n",
       "<path fill=\"none\" stroke=\"black\" d=\"M230.32,-88.95C240.3,-79.62 251.14,-69.47 261.09,-60.16\"/>\n",
       "<polygon fill=\"black\" stroke=\"black\" points=\"263.58,-62.62 268.49,-53.24 258.8,-57.51 263.58,-62.62\"/>\n",
       "<text text-anchor=\"middle\" x=\"267.66\" y=\"-74.52\" font-family=\"Helvetica,sans-Serif\" font-size=\"14.00\">False</text>\n",
       "</g>\n",
       "</g>\n",
       "</svg>\n"
      ],
      "text/plain": [
       "<graphviz.sources.Source at 0x1dfc957f1c0>"
      ]
     },
     "execution_count": 18,
     "metadata": {},
     "output_type": "execute_result"
    }
   ],
   "source": [
    "plot_tree_regression(dt_regression, features)"
   ]
  },
  {
   "cell_type": "code",
   "execution_count": null,
   "id": "d96425af",
   "metadata": {},
   "outputs": [],
   "source": []
  }
 ],
 "metadata": {
  "kernelspec": {
   "display_name": "Python 3 (ipykernel)",
   "language": "python",
   "name": "python3"
  },
  "language_info": {
   "codemirror_mode": {
    "name": "ipython",
    "version": 3
   },
   "file_extension": ".py",
   "mimetype": "text/x-python",
   "name": "python",
   "nbconvert_exporter": "python",
   "pygments_lexer": "ipython3",
   "version": "3.9.13"
  }
 },
 "nbformat": 4,
 "nbformat_minor": 5
}
